{
 "cells": [
  {
   "cell_type": "code",
   "id": "initial_id",
   "metadata": {
    "ExecuteTime": {
     "end_time": "2024-09-23T09:09:49.376129Z",
     "start_time": "2024-09-23T09:09:49.284186Z"
    }
   },
   "source": [
    "import numpy as np\n",
    "import pandas as pd \n",
    "import plotly.express as px\n",
    "\n",
    "import sys\n",
    "sys.path.append(\"../utils\")\n",
    "from parse_torch_profiler import txt_to_pd \n",
    "import matplotlib.pyplot as plt \n",
    "import matplotlib as mpl\n",
    "%load_ext autoreload\n",
    "%autoreload 2"
   ],
   "outputs": [
    {
     "name": "stdout",
     "output_type": "stream",
     "text": [
      "The autoreload extension is already loaded. To reload it, use:\n",
      "  %reload_ext autoreload\n"
     ]
    }
   ],
   "execution_count": 64
  },
  {
   "cell_type": "code",
   "id": "74856b736d4ed493",
   "metadata": {
    "ExecuteTime": {
     "end_time": "2024-09-23T08:05:16.168190Z",
     "start_time": "2024-09-23T08:05:16.148315Z"
    }
   },
   "source": [
    "full_pipeline = txt_to_pd('../timing/lightning_logs/acat_fullPipeline/predict-full.txt')\n",
    "from_pc = txt_to_pd(\"../timing/lightning_logs/acat_fromPointCloud/predict-full.txt\")\n",
    "ml = txt_to_pd(\"../timing/lightning_logs/acat_ml_only_1000/predict-gc.txt\")"
   ],
   "outputs": [],
   "execution_count": 2
  },
  {
   "metadata": {},
   "cell_type": "markdown",
   "source": [
    "3.11 minutes\n",
    "5.14 seconds \n",
    "17.35 seconds for ml only "
   ],
   "id": "226ab9b9bea9f86b"
  },
  {
   "metadata": {
    "ExecuteTime": {
     "end_time": "2024-09-23T09:11:35.401074Z",
     "start_time": "2024-09-23T09:11:34.362542Z"
    }
   },
   "cell_type": "code",
   "source": [
    "time_full = np.timedelta64(full_pipeline.iloc[0]['CPU total'], 's').astype('int')/100\n",
    "time_inference = np.timedelta64(from_pc.iloc[0]['CPU total'], 's').astype('int')/100\n",
    "name = [\"\"]\n",
    "\n",
    "mpl.rcParams.update({'font.size': 18})\n",
    "plt.bar(\"process\", time_full-time_inference, label=\"Point cloud\")\n",
    "plt.bar(\"process\", time_inference, bottom=(time_full-time_inference), label=\"Inference\")\n",
    "plt.ylabel(\"Time (s/event)\")\n",
    "plt.legend()\n",
    "plt.savefig(\"gnn_timing.png\", dpi=800)"
   ],
   "id": "9a2bcc7a0c84361b",
   "outputs": [
    {
     "data": {
      "text/plain": [
       "<Figure size 640x480 with 1 Axes>"
      ],
      "image/png": "[encoded data removed]"
     },
     "metadata": {},
     "output_type": "display_data"
    }
   ],
   "execution_count": 66
  },
  {
   "cell_type": "code",
   "id": "952e03c6f59021d1",
   "metadata": {
    "ExecuteTime": {
     "end_time": "2024-09-23T08:05:16.771638Z",
     "start_time": "2024-09-23T08:05:16.200437Z"
    }
   },
   "source": [
    "\n",
    "#gc_timing  = txt_to_pd('../timing/lightning_logs/gc/predict-gc.txt')\n",
    "#oc_timing  = txt_to_pd('../timing/lightning_logs/oc/predict-oc.txt')\n",
    "#ec_timing  = txt_to_pd('../timing/lightning_logs/ec/predict-ec.txt')\n",
    "\n"
   ],
   "outputs": [
    {
     "ename": "FileNotFoundError",
     "evalue": "[Errno 2] No such file or directory: '../timing/lightning_logs/gc/predict-gc.txt'",
     "output_type": "error",
     "traceback": [
      "\u001B[0;31m---------------------------------------------------------------------------\u001B[0m",
      "\u001B[0;31mFileNotFoundError\u001B[0m                         Traceback (most recent call last)",
      "Cell \u001B[0;32mIn[3], line 1\u001B[0m\n\u001B[0;32m----> 1\u001B[0m gc_timing  \u001B[38;5;241m=\u001B[39m txt_to_pd(\u001B[38;5;124m'\u001B[39m\u001B[38;5;124m../timing/lightning_logs/gc/predict-gc.txt\u001B[39m\u001B[38;5;124m'\u001B[39m)\n\u001B[1;32m      2\u001B[0m oc_timing  \u001B[38;5;241m=\u001B[39m txt_to_pd(\u001B[38;5;124m'\u001B[39m\u001B[38;5;124m../timing/lightning_logs/oc/predict-oc.txt\u001B[39m\u001B[38;5;124m'\u001B[39m)\n",
      "File \u001B[0;32m~/gnn_performance_analysis/plotting/../utils/parse_torch_profiler.py:20\u001B[0m, in \u001B[0;36mtxt_to_pd\u001B[0;34m(file_path)\u001B[0m\n\u001B[1;32m     11\u001B[0m \u001B[38;5;28;01mdef\u001B[39;00m \u001B[38;5;21mtxt_to_pd\u001B[39m(file_path: \u001B[38;5;28mstr\u001B[39m):\n\u001B[1;32m     12\u001B[0m \u001B[38;5;250m    \u001B[39m\u001B[38;5;124;03m\"\"\"\u001B[39;00m\n\u001B[1;32m     13\u001B[0m \n\u001B[1;32m     14\u001B[0m \u001B[38;5;124;03m    :param file_path: the path for a .txt output file from a torch profiler\u001B[39;00m\n\u001B[0;32m   (...)\u001B[0m\n\u001B[1;32m     18\u001B[0m \n\u001B[1;32m     19\u001B[0m \u001B[38;5;124;03m    \"\"\"\u001B[39;00m\n\u001B[0;32m---> 20\u001B[0m     profiling_file \u001B[38;5;241m=\u001B[39m \u001B[38;5;28mopen\u001B[39m(file_path, \u001B[38;5;124m'\u001B[39m\u001B[38;5;124mr\u001B[39m\u001B[38;5;124m'\u001B[39m)\n\u001B[1;32m     21\u001B[0m     profiling_report \u001B[38;5;241m=\u001B[39m profiling_file\u001B[38;5;241m.\u001B[39mread()\n\u001B[1;32m     22\u001B[0m     profiling_file\u001B[38;5;241m.\u001B[39mclose()\n",
      "\u001B[0;31mFileNotFoundError\u001B[0m: [Errno 2] No such file or directory: '../timing/lightning_logs/gc/predict-gc.txt'"
     ]
    }
   ],
   "execution_count": 3
  },
  {
   "cell_type": "code",
   "id": "9005e73db7fbfac6",
   "metadata": {
    "ExecuteTime": {
     "end_time": "2024-09-23T08:05:24.994838Z",
     "start_time": "2024-09-23T08:05:24.975822Z"
    }
   },
   "source": [
    "def get_costly_fns_wo_overhead(df, percentage, time_unit, num_samples): \n",
    "    \"\"\"\n",
    "    Function to calculate costly fns without overhead\n",
    "    :param df: input df processed by the txt_to_pd function \n",
    "    :param percentage: only consider functions that take above the percentage of the time on CPU/GPU\n",
    "    :param time_unit: unit of time \n",
    "    :return: costly CPU & GPU fns: a df with costly fns\n",
    "    :return other_cpu/gpu_time : the time without overhead that is spent in other functions than the costly ones \n",
    "    \"\"\"\n",
    "    df_wo_overhead = df.iloc[2:]\n",
    "\n",
    "    df_wo_overhead['Self CPU per sample'] = df_wo_overhead['Self CPU']/num_samples\n",
    "    df_wo_overhead['Self CUDA per sample'] = df_wo_overhead['Self CUDA']/num_samples\n",
    "    \n",
    "    total_cpu_self_time_per_sample = np.timedelta64(df_wo_overhead['Self CPU per sample'].sum(), time_unit)\n",
    "    total_gpu_self_time_per_sample = np.timedelta64(df_wo_overhead['Self CUDA per sample'].sum(), time_unit)\n",
    "\n",
    "    df_wo_overhead['Self CPU per sample'] = df_wo_overhead['Self CPU per sample'].astype(f'timedelta64[{time_unit}]')\n",
    "    df_wo_overhead['Self CUDA per sample'] = df_wo_overhead['Self CUDA per sample'].astype(f'timedelta64[{time_unit}]')\n",
    "    costly_CPU_fns = df_wo_overhead[df_wo_overhead['Self CPU per sample'] > total_cpu_self_time_per_sample * percentage/100]\n",
    "    costly_GPU_fns = df_wo_overhead[df_wo_overhead['Self CUDA per sample'] > total_gpu_self_time_per_sample * percentage/100] \n",
    "    \n",
    "    other_cpu_time = np.timedelta64(total_cpu_self_time_per_sample - costly_CPU_fns['Self CPU per sample'].sum(), time_unit)\n",
    "    other_gpu_time = np.timedelta64(total_gpu_self_time_per_sample - costly_GPU_fns['Self CUDA per sample'].sum(), time_unit)\n",
    "        \n",
    "    return costly_CPU_fns, costly_GPU_fns, other_cpu_time, other_gpu_time"
   ],
   "outputs": [],
   "execution_count": 7
  },
  {
   "cell_type": "code",
   "id": "fed89b2223cb4a07",
   "metadata": {
    "ExecuteTime": {
     "end_time": "2024-09-23T09:47:13.058514Z",
     "start_time": "2024-09-23T09:47:13.001926Z"
    }
   },
   "source": [
    "import plotly.io as pio\n",
    "\n",
    "def plot_timings(timing_df, percentage, time_unit, name, num_samples): \n",
    "    \"\"\"\n",
    "    Plot the CPU and GPU times as a bar chart\n",
    "\n",
    "    Note: be careful! \n",
    "\n",
    "    \"\"\"\n",
    "    \n",
    "    cpu, gpu, total_cpu, total_gpu = get_costly_fns_wo_overhead(timing_df, percentage, time_unit, num_samples)\n",
    "    names = np.concatenate((cpu['Name'].values , ['totalCPU'], gpu['Name'].values, ['totalGPU']))\n",
    "    #cpu_timings = np.array(cpu['Self CPU per sample'], \n",
    "    #print(cpu)\n",
    "    timing = np.array(np.concatenate((cpu['Self CPU per sample'].values , [total_cpu], gpu['Self CUDA per sample'].values, [total_gpu])), dtype=int)\n",
    "    device  = np.concatenate((['CPU']*(len(cpu)+1), ['GPU']*(len(gpu)+1))) \n",
    "    df_metric = pd.DataFrame({'names': names, 'type': device, 'timing': timing})\n",
    "    #print(df_metric)\n",
    "    fig = px.bar(df_metric, x=\"type\", y=\"timing\", color=names, \n",
    "                 labels={'type':'Device', 'timing':'Time (' + time_unit +' /event)', 'color':'Process'}, template='ggplot2')\n",
    "    fig.update_layout(\n",
    "        autosize=False,\n",
    "        width=550,\n",
    "        height=300,\n",
    "        font=dict(\n",
    "            size=20,  # Set the font size here\n",
    "        )\n",
    "    )\n",
    "\n",
    "    fig.show()\n",
    "    #fig.write_image(\"/Users/liv/gnn_performance_analysis/plotting/\"+ name+\"_timing.png\", scale=6)\n",
    "    pio.write_image(fig, 'image.pdf',scale=2, width=550, height=300)\n",
    "\n",
    "    "
   ],
   "outputs": [],
   "execution_count": 76
  },
  {
   "cell_type": "code",
   "id": "1597acf3c9e7aed",
   "metadata": {
    "ExecuteTime": {
     "end_time": "2024-09-23T09:47:14.078473Z",
     "start_time": "2024-09-23T09:47:13.989560Z"
    }
   },
   "source": "plot_timings(from_pc.drop([3, 8]), 15, 'ms', 'full', 100)",
   "outputs": [
    {
     "name": "stderr",
     "output_type": "stream",
     "text": [
      "/var/folders/fp/5tqzs2jn7fgbdzfwyp_qjkmr0000gn/T/ipykernel_45126/1178089202.py:12: SettingWithCopyWarning:\n",
      "\n",
      "\n",
      "A value is trying to be set on a copy of a slice from a DataFrame.\n",
      "Try using .loc[row_indexer,col_indexer] = value instead\n",
      "\n",
      "See the caveats in the documentation: https://pandas.pydata.org/pandas-docs/stable/user_guide/indexing.html#returning-a-view-versus-a-copy\n",
      "\n",
      "/var/folders/fp/5tqzs2jn7fgbdzfwyp_qjkmr0000gn/T/ipykernel_45126/1178089202.py:13: SettingWithCopyWarning:\n",
      "\n",
      "\n",
      "A value is trying to be set on a copy of a slice from a DataFrame.\n",
      "Try using .loc[row_indexer,col_indexer] = value instead\n",
      "\n",
      "See the caveats in the documentation: https://pandas.pydata.org/pandas-docs/stable/user_guide/indexing.html#returning-a-view-versus-a-copy\n",
      "\n",
      "/var/folders/fp/5tqzs2jn7fgbdzfwyp_qjkmr0000gn/T/ipykernel_45126/1178089202.py:18: SettingWithCopyWarning:\n",
      "\n",
      "\n",
      "A value is trying to be set on a copy of a slice from a DataFrame.\n",
      "Try using .loc[row_indexer,col_indexer] = value instead\n",
      "\n",
      "See the caveats in the documentation: https://pandas.pydata.org/pandas-docs/stable/user_guide/indexing.html#returning-a-view-versus-a-copy\n",
      "\n",
      "/var/folders/fp/5tqzs2jn7fgbdzfwyp_qjkmr0000gn/T/ipykernel_45126/1178089202.py:19: SettingWithCopyWarning:\n",
      "\n",
      "\n",
      "A value is trying to be set on a copy of a slice from a DataFrame.\n",
      "Try using .loc[row_indexer,col_indexer] = value instead\n",
      "\n",
      "See the caveats in the documentation: https://pandas.pydata.org/pandas-docs/stable/user_guide/indexing.html#returning-a-view-versus-a-copy\n",
      "\n"
     ]
    },
    {
     "data": {
      "application/vnd.plotly.v1+json": {
       "data": [
        {
         "alignmentgroup": "True",
         "hovertemplate": "Process=totalCPU<br>Device=%{x}<br>Time (ms /event)=%{y}<extra></extra>",
         "legendgroup": "totalCPU",
         "marker": {
          "color": "#F8766D",
          "pattern": {
           "shape": ""
          }
         },
         "name": "totalCPU",
         "offsetgroup": "totalCPU",
         "orientation": "v",
         "showlegend": true,
         "textposition": "auto",
         "x": [
          "CPU"
         ],
         "xaxis": "x",
         "y": [
          3
         ],
         "yaxis": "y",
         "type": "bar"
        },
        {
         "alignmentgroup": "True",
         "hovertemplate": "Process=torch_cluster::knn<br>Device=%{x}<br>Time (ms /event)=%{y}<extra></extra>",
         "legendgroup": "torch_cluster::knn",
         "marker": {
          "color": "#A3A500",
          "pattern": {
           "shape": ""
          }
         },
         "name": "torch_cluster::knn",
         "offsetgroup": "torch_cluster::knn",
         "orientation": "v",
         "showlegend": true,
         "textposition": "auto",
         "x": [
          "GPU"
         ],
         "xaxis": "x",
         "y": [
          21
         ],
         "yaxis": "y",
         "type": "bar"
        },
        {
         "alignmentgroup": "True",
         "hovertemplate": "Process=aten::addmm<br>Device=%{x}<br>Time (ms /event)=%{y}<extra></extra>",
         "legendgroup": "aten::addmm",
         "marker": {
          "color": "#00BF7D",
          "pattern": {
           "shape": ""
          }
         },
         "name": "aten::addmm",
         "offsetgroup": "aten::addmm",
         "orientation": "v",
         "showlegend": true,
         "textposition": "auto",
         "x": [
          "GPU"
         ],
         "xaxis": "x",
         "y": [
          12
         ],
         "yaxis": "y",
         "type": "bar"
        },
        {
         "alignmentgroup": "True",
         "hovertemplate": "Process=totalGPU<br>Device=%{x}<br>Time (ms /event)=%{y}<extra></extra>",
         "legendgroup": "totalGPU",
         "marker": {
          "color": "#00B0F6",
          "pattern": {
           "shape": ""
          }
         },
         "name": "totalGPU",
         "offsetgroup": "totalGPU",
         "orientation": "v",
         "showlegend": true,
         "textposition": "auto",
         "x": [
          "GPU"
         ],
         "xaxis": "x",
         "y": [
          13
         ],
         "yaxis": "y",
         "type": "bar"
        }
       ],
       "layout": {
        "template": {
         "data": {
          "barpolar": [
           {
            "marker": {
             "line": {
              "color": "rgb(237,237,237)",
              "width": 0.5
             },
             "pattern": {
              "fillmode": "overlay",
              "size": 10,
              "solidity": 0.2
             }
            },
            "type": "barpolar"
           }
          ],
          "bar": [
           {
            "error_x": {
             "color": "rgb(51,51,51)"
            },
            "error_y": {
             "color": "rgb(51,51,51)"
            },
            "marker": {
             "line": {
              "color": "rgb(237,237,237)",
              "width": 0.5
             },
             "pattern": {
              "fillmode": "overlay",
              "size": 10,
              "solidity": 0.2
             }
            },
            "type": "bar"
           }
          ],
          "carpet": [
           {
            "aaxis": {
             "endlinecolor": "rgb(51,51,51)",
             "gridcolor": "white",
             "linecolor": "white",
             "minorgridcolor": "white",
             "startlinecolor": "rgb(51,51,51)"
            },
            "baxis": {
             "endlinecolor": "rgb(51,51,51)",
             "gridcolor": "white",
             "linecolor": "white",
             "minorgridcolor": "white",
             "startlinecolor": "rgb(51,51,51)"
            },
            "type": "carpet"
           }
          ],
          "choropleth": [
           {
            "colorbar": {
             "outlinewidth": 0,
             "tickcolor": "rgb(237,237,237)",
             "ticklen": 6,
             "ticks": "inside"
            },
            "type": "choropleth"
           }
          ],
          "contourcarpet": [
           {
            "colorbar": {
             "outlinewidth": 0,
             "tickcolor": "rgb(237,237,237)",
             "ticklen": 6,
             "ticks": "inside"
            },
            "type": "contourcarpet"
           }
          ],
          "contour": [
           {
            "colorbar": {
             "outlinewidth": 0,
             "tickcolor": "rgb(237,237,237)",
             "ticklen": 6,
             "ticks": "inside"
            },
            "colorscale": [
             [
              0,
              "rgb(20,44,66)"
             ],
             [
              1,
              "rgb(90,179,244)"
             ]
            ],
            "type": "contour"
           }
          ],
          "heatmapgl": [
           {
            "colorbar": {
             "outlinewidth": 0,
             "tickcolor": "rgb(237,237,237)",
             "ticklen": 6,
             "ticks": "inside"
            },
            "colorscale": [
             [
              0,
              "rgb(20,44,66)"
             ],
             [
              1,
              "rgb(90,179,244)"
             ]
            ],
            "type": "heatmapgl"
           }
          ],
          "heatmap": [
           {
            "colorbar": {
             "outlinewidth": 0,
             "tickcolor": "rgb(237,237,237)",
             "ticklen": 6,
             "ticks": "inside"
            },
            "colorscale": [
             [
              0,
              "rgb(20,44,66)"
             ],
             [
              1,
              "rgb(90,179,244)"
             ]
            ],
            "type": "heatmap"
           }
          ],
          "histogram2dcontour": [
           {
            "colorbar": {
             "outlinewidth": 0,
             "tickcolor": "rgb(237,237,237)",
             "ticklen": 6,
             "ticks": "inside"
            },
            "colorscale": [
             [
              0,
              "rgb(20,44,66)"
             ],
             [
              1,
              "rgb(90,179,244)"
             ]
            ],
            "type": "histogram2dcontour"
           }
          ],
          "histogram2d": [
           {
            "colorbar": {
             "outlinewidth": 0,
             "tickcolor": "rgb(237,237,237)",
             "ticklen": 6,
             "ticks": "inside"
            },
            "colorscale": [
             [
              0,
              "rgb(20,44,66)"
             ],
             [
              1,
              "rgb(90,179,244)"
             ]
            ],
            "type": "histogram2d"
           }
          ],
          "histogram": [
           {
            "marker": {
             "pattern": {
              "fillmode": "overlay",
              "size": 10,
              "solidity": 0.2
             }
            },
            "type": "histogram"
           }
          ],
          "mesh3d": [
           {
            "colorbar": {
             "outlinewidth": 0,
             "tickcolor": "rgb(237,237,237)",
             "ticklen": 6,
             "ticks": "inside"
            },
            "type": "mesh3d"
           }
          ],
          "parcoords": [
           {
            "line": {
             "colorbar": {
              "outlinewidth": 0,
              "tickcolor": "rgb(237,237,237)",
              "ticklen": 6,
              "ticks": "inside"
             }
            },
            "type": "parcoords"
           }
          ],
          "pie": [
           {
            "automargin": true,
            "type": "pie"
           }
          ],
          "scatter3d": [
           {
            "line": {
             "colorbar": {
              "outlinewidth": 0,
              "tickcolor": "rgb(237,237,237)",
              "ticklen": 6,
              "ticks": "inside"
             }
            },
            "marker": {
             "colorbar": {
              "outlinewidth": 0,
              "tickcolor": "rgb(237,237,237)",
              "ticklen": 6,
              "ticks": "inside"
             }
            },
            "type": "scatter3d"
           }
          ],
          "scattercarpet": [
           {
            "marker": {
             "colorbar": {
              "outlinewidth": 0,
              "tickcolor": "rgb(237,237,237)",
              "ticklen": 6,
              "ticks": "inside"
             }
            },
            "type": "scattercarpet"
           }
          ],
          "scattergeo": [
           {
            "marker": {
             "colorbar": {
              "outlinewidth": 0,
              "tickcolor": "rgb(237,237,237)",
              "ticklen": 6,
              "ticks": "inside"
             }
            },
            "type": "scattergeo"
           }
          ],
          "scattergl": [
           {
            "marker": {
             "colorbar": {
              "outlinewidth": 0,
              "tickcolor": "rgb(237,237,237)",
              "ticklen": 6,
              "ticks": "inside"
             }
            },
            "type": "scattergl"
           }
          ],
          "scattermapbox": [
           {
            "marker": {
             "colorbar": {
              "outlinewidth": 0,
              "tickcolor": "rgb(237,237,237)",
              "ticklen": 6,
              "ticks": "inside"
             }
            },
            "type": "scattermapbox"
           }
          ],
          "scatterpolargl": [
           {
            "marker": {
             "colorbar": {
              "outlinewidth": 0,
              "tickcolor": "rgb(237,237,237)",
              "ticklen": 6,
              "ticks": "inside"
             }
            },
            "type": "scatterpolargl"
           }
          ],
          "scatterpolar": [
           {
            "marker": {
             "colorbar": {
              "outlinewidth": 0,
              "tickcolor": "rgb(237,237,237)",
              "ticklen": 6,
              "ticks": "inside"
             }
            },
            "type": "scatterpolar"
           }
          ],
          "scatter": [
           {
            "fillpattern": {
             "fillmode": "overlay",
             "size": 10,
             "solidity": 0.2
            },
            "type": "scatter"
           }
          ],
          "scatterternary": [
           {
            "marker": {
             "colorbar": {
              "outlinewidth": 0,
              "tickcolor": "rgb(237,237,237)",
              "ticklen": 6,
              "ticks": "inside"
             }
            },
            "type": "scatterternary"
           }
          ],
          "surface": [
           {
            "colorbar": {
             "outlinewidth": 0,
             "tickcolor": "rgb(237,237,237)",
             "ticklen": 6,
             "ticks": "inside"
            },
            "colorscale": [
             [
              0,
              "rgb(20,44,66)"
             ],
             [
              1,
              "rgb(90,179,244)"
             ]
            ],
            "type": "surface"
           }
          ],
          "table": [
           {
            "cells": {
             "fill": {
              "color": "rgb(237,237,237)"
             },
             "line": {
              "color": "white"
             }
            },
            "header": {
             "fill": {
              "color": "rgb(217,217,217)"
             },
             "line": {
              "color": "white"
             }
            },
            "type": "table"
           }
          ]
         },
         "layout": {
          "annotationdefaults": {
           "arrowhead": 0,
           "arrowwidth": 1
          },
          "autotypenumbers": "strict",
          "coloraxis": {
           "colorbar": {
            "outlinewidth": 0,
            "tickcolor": "rgb(237,237,237)",
            "ticklen": 6,
            "ticks": "inside"
           }
          },
          "colorscale": {
           "sequential": [
            [
             0,
             "rgb(20,44,66)"
            ],
            [
             1,
             "rgb(90,179,244)"
            ]
           ],
           "sequentialminus": [
            [
             0,
             "rgb(20,44,66)"
            ],
            [
             1,
             "rgb(90,179,244)"
            ]
           ]
          },
          "colorway": [
           "#F8766D",
           "#A3A500",
           "#00BF7D",
           "#00B0F6",
           "#E76BF3"
          ],
          "font": {
           "color": "rgb(51,51,51)"
          },
          "geo": {
           "bgcolor": "white",
           "lakecolor": "white",
           "landcolor": "rgb(237,237,237)",
           "showlakes": true,
           "showland": true,
           "subunitcolor": "white"
          },
          "hoverlabel": {
           "align": "left"
          },
          "hovermode": "closest",
          "paper_bgcolor": "white",
          "plot_bgcolor": "rgb(237,237,237)",
          "polar": {
           "angularaxis": {
            "gridcolor": "white",
            "linecolor": "white",
            "showgrid": true,
            "tickcolor": "rgb(51,51,51)",
            "ticks": "outside"
           },
           "bgcolor": "rgb(237,237,237)",
           "radialaxis": {
            "gridcolor": "white",
            "linecolor": "white",
            "showgrid": true,
            "tickcolor": "rgb(51,51,51)",
            "ticks": "outside"
           }
          },
          "scene": {
           "xaxis": {
            "backgroundcolor": "rgb(237,237,237)",
            "gridcolor": "white",
            "gridwidth": 2,
            "linecolor": "white",
            "showbackground": true,
            "showgrid": true,
            "tickcolor": "rgb(51,51,51)",
            "ticks": "outside",
            "zerolinecolor": "white"
           },
           "yaxis": {
            "backgroundcolor": "rgb(237,237,237)",
            "gridcolor": "white",
            "gridwidth": 2,
            "linecolor": "white",
            "showbackground": true,
            "showgrid": true,
            "tickcolor": "rgb(51,51,51)",
            "ticks": "outside",
            "zerolinecolor": "white"
           },
           "zaxis": {
            "backgroundcolor": "rgb(237,237,237)",
            "gridcolor": "white",
            "gridwidth": 2,
            "linecolor": "white",
            "showbackground": true,
            "showgrid": true,
            "tickcolor": "rgb(51,51,51)",
            "ticks": "outside",
            "zerolinecolor": "white"
           }
          },
          "shapedefaults": {
           "fillcolor": "black",
           "line": {
            "width": 0
           },
           "opacity": 0.3
          },
          "ternary": {
           "aaxis": {
            "gridcolor": "white",
            "linecolor": "white",
            "showgrid": true,
            "tickcolor": "rgb(51,51,51)",
            "ticks": "outside"
           },
           "baxis": {
            "gridcolor": "white",
            "linecolor": "white",
            "showgrid": true,
            "tickcolor": "rgb(51,51,51)",
            "ticks": "outside"
           },
           "bgcolor": "rgb(237,237,237)",
           "caxis": {
            "gridcolor": "white",
            "linecolor": "white",
            "showgrid": true,
            "tickcolor": "rgb(51,51,51)",
            "ticks": "outside"
           }
          },
          "xaxis": {
           "automargin": true,
           "gridcolor": "white",
           "linecolor": "white",
           "showgrid": true,
           "tickcolor": "rgb(51,51,51)",
           "ticks": "outside",
           "title": {
            "standoff": 15
           },
           "zerolinecolor": "white"
          },
          "yaxis": {
           "automargin": true,
           "gridcolor": "white",
           "linecolor": "white",
           "showgrid": true,
           "tickcolor": "rgb(51,51,51)",
           "ticks": "outside",
           "title": {
            "standoff": 15
           },
           "zerolinecolor": "white"
          }
         }
        },
        "xaxis": {
         "anchor": "y",
         "domain": [
          0.0,
          1.0
         ],
         "title": {
          "text": "Device"
         }
        },
        "yaxis": {
         "anchor": "x",
         "domain": [
          0.0,
          1.0
         ],
         "title": {
          "text": "Time (ms /event)"
         }
        },
        "legend": {
         "title": {
          "text": "Process"
         },
         "tracegroupgap": 0
        },
        "margin": {
         "t": 60
        },
        "barmode": "relative",
        "font": {
         "size": 20
        },
        "autosize": false,
        "width": 550,
        "height": 300
       },
       "config": {
        "plotlyServerURL": "https://plot.ly"
       }
      },
      "text/html": [
       "<div>                            <div id=\"29933651-9dc6-4e61-97cd-8506859a9202\" class=\"plotly-graph-div\" style=\"height:300px; width:550px;\"></div>            <script type=\"text/javascript\">                require([\"plotly\"], function(Plotly) {                    window.PLOTLYENV=window.PLOTLYENV || {};                                    if (document.getElementById(\"29933651-9dc6-4e61-97cd-8506859a9202\")) {                    Plotly.newPlot(                        \"29933651-9dc6-4e61-97cd-8506859a9202\",                        [{\"alignmentgroup\":\"True\",\"hovertemplate\":\"Process=totalCPU\\u003cbr\\u003eDevice=%{x}\\u003cbr\\u003eTime (ms \\u002fevent)=%{y}\\u003cextra\\u003e\\u003c\\u002fextra\\u003e\",\"legendgroup\":\"totalCPU\",\"marker\":{\"color\":\"#F8766D\",\"pattern\":{\"shape\":\"\"}},\"name\":\"totalCPU\",\"offsetgroup\":\"totalCPU\",\"orientation\":\"v\",\"showlegend\":true,\"textposition\":\"auto\",\"x\":[\"CPU\"],\"xaxis\":\"x\",\"y\":[3],\"yaxis\":\"y\",\"type\":\"bar\"},{\"alignmentgroup\":\"True\",\"hovertemplate\":\"Process=torch_cluster::knn\\u003cbr\\u003eDevice=%{x}\\u003cbr\\u003eTime (ms \\u002fevent)=%{y}\\u003cextra\\u003e\\u003c\\u002fextra\\u003e\",\"legendgroup\":\"torch_cluster::knn\",\"marker\":{\"color\":\"#A3A500\",\"pattern\":{\"shape\":\"\"}},\"name\":\"torch_cluster::knn\",\"offsetgroup\":\"torch_cluster::knn\",\"orientation\":\"v\",\"showlegend\":true,\"textposition\":\"auto\",\"x\":[\"GPU\"],\"xaxis\":\"x\",\"y\":[21],\"yaxis\":\"y\",\"type\":\"bar\"},{\"alignmentgroup\":\"True\",\"hovertemplate\":\"Process=aten::addmm\\u003cbr\\u003eDevice=%{x}\\u003cbr\\u003eTime (ms \\u002fevent)=%{y}\\u003cextra\\u003e\\u003c\\u002fextra\\u003e\",\"legendgroup\":\"aten::addmm\",\"marker\":{\"color\":\"#00BF7D\",\"pattern\":{\"shape\":\"\"}},\"name\":\"aten::addmm\",\"offsetgroup\":\"aten::addmm\",\"orientation\":\"v\",\"showlegend\":true,\"textposition\":\"auto\",\"x\":[\"GPU\"],\"xaxis\":\"x\",\"y\":[12],\"yaxis\":\"y\",\"type\":\"bar\"},{\"alignmentgroup\":\"True\",\"hovertemplate\":\"Process=totalGPU\\u003cbr\\u003eDevice=%{x}\\u003cbr\\u003eTime (ms \\u002fevent)=%{y}\\u003cextra\\u003e\\u003c\\u002fextra\\u003e\",\"legendgroup\":\"totalGPU\",\"marker\":{\"color\":\"#00B0F6\",\"pattern\":{\"shape\":\"\"}},\"name\":\"totalGPU\",\"offsetgroup\":\"totalGPU\",\"orientation\":\"v\",\"showlegend\":true,\"textposition\":\"auto\",\"x\":[\"GPU\"],\"xaxis\":\"x\",\"y\":[13],\"yaxis\":\"y\",\"type\":\"bar\"}],                        {\"template\":{\"data\":{\"barpolar\":[{\"marker\":{\"line\":{\"color\":\"rgb(237,237,237)\",\"width\":0.5},\"pattern\":{\"fillmode\":\"overlay\",\"size\":10,\"solidity\":0.2}},\"type\":\"barpolar\"}],\"bar\":[{\"error_x\":{\"color\":\"rgb(51,51,51)\"},\"error_y\":{\"color\":\"rgb(51,51,51)\"},\"marker\":{\"line\":{\"color\":\"rgb(237,237,237)\",\"width\":0.5},\"pattern\":{\"fillmode\":\"overlay\",\"size\":10,\"solidity\":0.2}},\"type\":\"bar\"}],\"carpet\":[{\"aaxis\":{\"endlinecolor\":\"rgb(51,51,51)\",\"gridcolor\":\"white\",\"linecolor\":\"white\",\"minorgridcolor\":\"white\",\"startlinecolor\":\"rgb(51,51,51)\"},\"baxis\":{\"endlinecolor\":\"rgb(51,51,51)\",\"gridcolor\":\"white\",\"linecolor\":\"white\",\"minorgridcolor\":\"white\",\"startlinecolor\":\"rgb(51,51,51)\"},\"type\":\"carpet\"}],\"choropleth\":[{\"colorbar\":{\"outlinewidth\":0,\"tickcolor\":\"rgb(237,237,237)\",\"ticklen\":6,\"ticks\":\"inside\"},\"type\":\"choropleth\"}],\"contourcarpet\":[{\"colorbar\":{\"outlinewidth\":0,\"tickcolor\":\"rgb(237,237,237)\",\"ticklen\":6,\"ticks\":\"inside\"},\"type\":\"contourcarpet\"}],\"contour\":[{\"colorbar\":{\"outlinewidth\":0,\"tickcolor\":\"rgb(237,237,237)\",\"ticklen\":6,\"ticks\":\"inside\"},\"colorscale\":[[0,\"rgb(20,44,66)\"],[1,\"rgb(90,179,244)\"]],\"type\":\"contour\"}],\"heatmapgl\":[{\"colorbar\":{\"outlinewidth\":0,\"tickcolor\":\"rgb(237,237,237)\",\"ticklen\":6,\"ticks\":\"inside\"},\"colorscale\":[[0,\"rgb(20,44,66)\"],[1,\"rgb(90,179,244)\"]],\"type\":\"heatmapgl\"}],\"heatmap\":[{\"colorbar\":{\"outlinewidth\":0,\"tickcolor\":\"rgb(237,237,237)\",\"ticklen\":6,\"ticks\":\"inside\"},\"colorscale\":[[0,\"rgb(20,44,66)\"],[1,\"rgb(90,179,244)\"]],\"type\":\"heatmap\"}],\"histogram2dcontour\":[{\"colorbar\":{\"outlinewidth\":0,\"tickcolor\":\"rgb(237,237,237)\",\"ticklen\":6,\"ticks\":\"inside\"},\"colorscale\":[[0,\"rgb(20,44,66)\"],[1,\"rgb(90,179,244)\"]],\"type\":\"histogram2dcontour\"}],\"histogram2d\":[{\"colorbar\":{\"outlinewidth\":0,\"tickcolor\":\"rgb(237,237,237)\",\"ticklen\":6,\"ticks\":\"inside\"},\"colorscale\":[[0,\"rgb(20,44,66)\"],[1,\"rgb(90,179,244)\"]],\"type\":\"histogram2d\"}],\"histogram\":[{\"marker\":{\"pattern\":{\"fillmode\":\"overlay\",\"size\":10,\"solidity\":0.2}},\"type\":\"histogram\"}],\"mesh3d\":[{\"colorbar\":{\"outlinewidth\":0,\"tickcolor\":\"rgb(237,237,237)\",\"ticklen\":6,\"ticks\":\"inside\"},\"type\":\"mesh3d\"}],\"parcoords\":[{\"line\":{\"colorbar\":{\"outlinewidth\":0,\"tickcolor\":\"rgb(237,237,237)\",\"ticklen\":6,\"ticks\":\"inside\"}},\"type\":\"parcoords\"}],\"pie\":[{\"automargin\":true,\"type\":\"pie\"}],\"scatter3d\":[{\"line\":{\"colorbar\":{\"outlinewidth\":0,\"tickcolor\":\"rgb(237,237,237)\",\"ticklen\":6,\"ticks\":\"inside\"}},\"marker\":{\"colorbar\":{\"outlinewidth\":0,\"tickcolor\":\"rgb(237,237,237)\",\"ticklen\":6,\"ticks\":\"inside\"}},\"type\":\"scatter3d\"}],\"scattercarpet\":[{\"marker\":{\"colorbar\":{\"outlinewidth\":0,\"tickcolor\":\"rgb(237,237,237)\",\"ticklen\":6,\"ticks\":\"inside\"}},\"type\":\"scattercarpet\"}],\"scattergeo\":[{\"marker\":{\"colorbar\":{\"outlinewidth\":0,\"tickcolor\":\"rgb(237,237,237)\",\"ticklen\":6,\"ticks\":\"inside\"}},\"type\":\"scattergeo\"}],\"scattergl\":[{\"marker\":{\"colorbar\":{\"outlinewidth\":0,\"tickcolor\":\"rgb(237,237,237)\",\"ticklen\":6,\"ticks\":\"inside\"}},\"type\":\"scattergl\"}],\"scattermapbox\":[{\"marker\":{\"colorbar\":{\"outlinewidth\":0,\"tickcolor\":\"rgb(237,237,237)\",\"ticklen\":6,\"ticks\":\"inside\"}},\"type\":\"scattermapbox\"}],\"scatterpolargl\":[{\"marker\":{\"colorbar\":{\"outlinewidth\":0,\"tickcolor\":\"rgb(237,237,237)\",\"ticklen\":6,\"ticks\":\"inside\"}},\"type\":\"scatterpolargl\"}],\"scatterpolar\":[{\"marker\":{\"colorbar\":{\"outlinewidth\":0,\"tickcolor\":\"rgb(237,237,237)\",\"ticklen\":6,\"ticks\":\"inside\"}},\"type\":\"scatterpolar\"}],\"scatter\":[{\"fillpattern\":{\"fillmode\":\"overlay\",\"size\":10,\"solidity\":0.2},\"type\":\"scatter\"}],\"scatterternary\":[{\"marker\":{\"colorbar\":{\"outlinewidth\":0,\"tickcolor\":\"rgb(237,237,237)\",\"ticklen\":6,\"ticks\":\"inside\"}},\"type\":\"scatterternary\"}],\"surface\":[{\"colorbar\":{\"outlinewidth\":0,\"tickcolor\":\"rgb(237,237,237)\",\"ticklen\":6,\"ticks\":\"inside\"},\"colorscale\":[[0,\"rgb(20,44,66)\"],[1,\"rgb(90,179,244)\"]],\"type\":\"surface\"}],\"table\":[{\"cells\":{\"fill\":{\"color\":\"rgb(237,237,237)\"},\"line\":{\"color\":\"white\"}},\"header\":{\"fill\":{\"color\":\"rgb(217,217,217)\"},\"line\":{\"color\":\"white\"}},\"type\":\"table\"}]},\"layout\":{\"annotationdefaults\":{\"arrowhead\":0,\"arrowwidth\":1},\"autotypenumbers\":\"strict\",\"coloraxis\":{\"colorbar\":{\"outlinewidth\":0,\"tickcolor\":\"rgb(237,237,237)\",\"ticklen\":6,\"ticks\":\"inside\"}},\"colorscale\":{\"sequential\":[[0,\"rgb(20,44,66)\"],[1,\"rgb(90,179,244)\"]],\"sequentialminus\":[[0,\"rgb(20,44,66)\"],[1,\"rgb(90,179,244)\"]]},\"colorway\":[\"#F8766D\",\"#A3A500\",\"#00BF7D\",\"#00B0F6\",\"#E76BF3\"],\"font\":{\"color\":\"rgb(51,51,51)\"},\"geo\":{\"bgcolor\":\"white\",\"lakecolor\":\"white\",\"landcolor\":\"rgb(237,237,237)\",\"showlakes\":true,\"showland\":true,\"subunitcolor\":\"white\"},\"hoverlabel\":{\"align\":\"left\"},\"hovermode\":\"closest\",\"paper_bgcolor\":\"white\",\"plot_bgcolor\":\"rgb(237,237,237)\",\"polar\":{\"angularaxis\":{\"gridcolor\":\"white\",\"linecolor\":\"white\",\"showgrid\":true,\"tickcolor\":\"rgb(51,51,51)\",\"ticks\":\"outside\"},\"bgcolor\":\"rgb(237,237,237)\",\"radialaxis\":{\"gridcolor\":\"white\",\"linecolor\":\"white\",\"showgrid\":true,\"tickcolor\":\"rgb(51,51,51)\",\"ticks\":\"outside\"}},\"scene\":{\"xaxis\":{\"backgroundcolor\":\"rgb(237,237,237)\",\"gridcolor\":\"white\",\"gridwidth\":2,\"linecolor\":\"white\",\"showbackground\":true,\"showgrid\":true,\"tickcolor\":\"rgb(51,51,51)\",\"ticks\":\"outside\",\"zerolinecolor\":\"white\"},\"yaxis\":{\"backgroundcolor\":\"rgb(237,237,237)\",\"gridcolor\":\"white\",\"gridwidth\":2,\"linecolor\":\"white\",\"showbackground\":true,\"showgrid\":true,\"tickcolor\":\"rgb(51,51,51)\",\"ticks\":\"outside\",\"zerolinecolor\":\"white\"},\"zaxis\":{\"backgroundcolor\":\"rgb(237,237,237)\",\"gridcolor\":\"white\",\"gridwidth\":2,\"linecolor\":\"white\",\"showbackground\":true,\"showgrid\":true,\"tickcolor\":\"rgb(51,51,51)\",\"ticks\":\"outside\",\"zerolinecolor\":\"white\"}},\"shapedefaults\":{\"fillcolor\":\"black\",\"line\":{\"width\":0},\"opacity\":0.3},\"ternary\":{\"aaxis\":{\"gridcolor\":\"white\",\"linecolor\":\"white\",\"showgrid\":true,\"tickcolor\":\"rgb(51,51,51)\",\"ticks\":\"outside\"},\"baxis\":{\"gridcolor\":\"white\",\"linecolor\":\"white\",\"showgrid\":true,\"tickcolor\":\"rgb(51,51,51)\",\"ticks\":\"outside\"},\"bgcolor\":\"rgb(237,237,237)\",\"caxis\":{\"gridcolor\":\"white\",\"linecolor\":\"white\",\"showgrid\":true,\"tickcolor\":\"rgb(51,51,51)\",\"ticks\":\"outside\"}},\"xaxis\":{\"automargin\":true,\"gridcolor\":\"white\",\"linecolor\":\"white\",\"showgrid\":true,\"tickcolor\":\"rgb(51,51,51)\",\"ticks\":\"outside\",\"title\":{\"standoff\":15},\"zerolinecolor\":\"white\"},\"yaxis\":{\"automargin\":true,\"gridcolor\":\"white\",\"linecolor\":\"white\",\"showgrid\":true,\"tickcolor\":\"rgb(51,51,51)\",\"ticks\":\"outside\",\"title\":{\"standoff\":15},\"zerolinecolor\":\"white\"}}},\"xaxis\":{\"anchor\":\"y\",\"domain\":[0.0,1.0],\"title\":{\"text\":\"Device\"}},\"yaxis\":{\"anchor\":\"x\",\"domain\":[0.0,1.0],\"title\":{\"text\":\"Time (ms \\u002fevent)\"}},\"legend\":{\"title\":{\"text\":\"Process\"},\"tracegroupgap\":0},\"margin\":{\"t\":60},\"barmode\":\"relative\",\"font\":{\"size\":20},\"autosize\":false,\"width\":550,\"height\":300},                        {\"responsive\": true}                    ).then(function(){\n",
       "                            \n",
       "var gd = document.getElementById('29933651-9dc6-4e61-97cd-8506859a9202');\n",
       "var x = new MutationObserver(function (mutations, observer) {{\n",
       "        var display = window.getComputedStyle(gd).display;\n",
       "        if (!display || display === 'none') {{\n",
       "            console.log([gd, 'removed!']);\n",
       "            Plotly.purge(gd);\n",
       "            observer.disconnect();\n",
       "        }}\n",
       "}});\n",
       "\n",
       "// Listen for the removal of the full notebook cells\n",
       "var notebookContainer = gd.closest('#notebook-container');\n",
       "if (notebookContainer) {{\n",
       "    x.observe(notebookContainer, {childList: true});\n",
       "}}\n",
       "\n",
       "// Listen for the clearing of the current output cell\n",
       "var outputEl = gd.closest('.output');\n",
       "if (outputEl) {{\n",
       "    x.observe(outputEl, {childList: true});\n",
       "}}\n",
       "\n",
       "                        })                };                });            </script>        </div>"
      ]
     },
     "metadata": {},
     "output_type": "display_data"
    }
   ],
   "execution_count": 77
  },
  {
   "metadata": {
    "ExecuteTime": {
     "end_time": "2024-09-23T08:04:08.688060Z",
     "start_time": "2024-09-23T08:03:43.686731Z"
    }
   },
   "cell_type": "code",
   "source": [
    "steps = [\"Point clouds\", \"Pipeline\", \"DBSCAN\"]\n",
    "\n"
   ],
   "id": "8373998cc1bf3c7d",
   "outputs": [
    {
     "name": "stdout",
     "output_type": "stream",
     "text": [
      "Collecting kaleido\r\n",
      "  Downloading kaleido-0.2.1-py2.py3-none-macosx_11_0_arm64.whl.metadata (15 kB)\r\n",
      "Downloading kaleido-0.2.1-py2.py3-none-macosx_11_0_arm64.whl (85.8 MB)\r\n",
      "\u001B[2K   \u001B[90m━━━━━━━━━━━━━━━━━━━━━━━━━━━━━━━━━━━━━━━━\u001B[0m \u001B[32m85.8/85.8 MB\u001B[0m \u001B[31m4.0 MB/s\u001B[0m eta \u001B[36m0:00:00\u001B[0m00:01\u001B[0m00:01\u001B[0m\r\n",
      "\u001B[?25hInstalling collected packages: kaleido\r\n",
      "Successfully installed kaleido-0.2.1\r\n",
      "Note: you may need to restart the kernel to use updated packages.\n"
     ]
    }
   ],
   "execution_count": 34
  },
  {
   "metadata": {
    "ExecuteTime": {
     "end_time": "2024-09-20T12:30:25.528334Z",
     "start_time": "2024-09-20T12:30:25.470481Z"
    }
   },
   "cell_type": "code",
   "source": "full_pipeline.drop(3)",
   "id": "f872693e2594aa76",
   "outputs": [
    {
     "data": {
      "text/plain": [
       "                                                 Name  Self CPU %  \\\n",
       "0                                       ProfilerStep*        0.06   \n",
       "1   [pl][profile][Strategy]SingleDeviceStrategy.pr...       -0.18   \n",
       "2                                  torch_cluster::knn        0.00   \n",
       "4   [pl][module]gnn_tracking.models.resin.ResIN: m...        0.04   \n",
       "5                                        aten::linear        0.01   \n",
       "6                                             forward        0.01   \n",
       "7                                         aten::addmm        0.05   \n",
       "8                               ampere_sgemm_64x64_tn        0.00   \n",
       "9   [pl][module]gnn_tracking.models.interaction_ne...        0.02   \n",
       "10                                 aten::index_select        0.01   \n",
       "11                                   cudaLaunchKernel        0.09   \n",
       "12  void at::native::(anonymous namespace)::indexS...        0.00   \n",
       "13                                    aten::clamp_min        0.02   \n",
       "14                                         aten::relu        0.01   \n",
       "15                                          aten::cat        0.03   \n",
       "16  void at::native::vectorized_elementwise_kernel...        0.00   \n",
       "17  void at::native::(anonymous namespace)::CatArr...        0.00   \n",
       "18                                       aten::matmul        0.00   \n",
       "19                                           aten::mm        0.02   \n",
       "\n",
       "                   Self CPU  CPU total %              CPU total  \\\n",
       "0    0 days 00:00:00.108532       100.00 0 days 00:03:11.816000   \n",
       "1  -1 days +23:59:59.996371        99.59 0 days 00:03:11.031000   \n",
       "2    0 days 00:00:00.006578        75.08 0 days 00:02:24.016000   \n",
       "4    0 days 00:00:00.077237         1.49 0 days 00:00:02.863000   \n",
       "5    0 days 00:00:00.014506         0.49 0 days 00:00:00.932166   \n",
       "6    0 days 00:00:00.010481         0.77 0 days 00:00:01.470000   \n",
       "7    0 days 00:00:00.088928         0.45 0 days 00:00:00.853623   \n",
       "8           0 days 00:00:00         0.00        0 days 00:00:00   \n",
       "9    0 days 00:00:00.033033         0.79 0 days 00:00:01.514000   \n",
       "10   0 days 00:00:00.022611         0.03 0 days 00:00:00.049780   \n",
       "11   0 days 00:00:00.176435         0.09 0 days 00:00:00.176435   \n",
       "12          0 days 00:00:00         0.00        0 days 00:00:00   \n",
       "13   0 days 00:00:00.040644         0.35 0 days 00:00:00.663000   \n",
       "14   0 days 00:00:00.014085         0.35 0 days 00:00:00.670914   \n",
       "15   0 days 00:00:00.057235         0.60 0 days 00:00:01.155000   \n",
       "16          0 days 00:00:00         0.00        0 days 00:00:00   \n",
       "17          0 days 00:00:00         0.00        0 days 00:00:00   \n",
       "18   0 days 00:00:00.002017         0.02 0 days 00:00:00.046886   \n",
       "19   0 days 00:00:00.035187         0.02 0 days 00:00:00.044869   \n",
       "\n",
       "                CPU time avg              Self CUDA  Self CUDA %  \\\n",
       "0     0 days 00:00:01.918000        0 days 00:00:00         0.00   \n",
       "1     0 days 00:00:01.930000        0 days 00:00:00         0.00   \n",
       "2     0 days 00:00:01.455000 0 days 00:02:21.944000        74.86   \n",
       "4     0 days 00:00:00.028919        0 days 00:00:00         0.00   \n",
       "5  0 days 00:00:00.000235395        0 days 00:00:00         0.00   \n",
       "6     0 days 00:00:00.001856        0 days 00:00:00         0.00   \n",
       "7  0 days 00:00:00.000287415 0 days 00:00:27.668000        14.59   \n",
       "8            0 days 00:00:00 0 days 00:00:27.156000        14.32   \n",
       "9     0 days 00:00:00.015291        0 days 00:00:00         0.00   \n",
       "10 0 days 00:00:00.000062854 0 days 00:00:05.573000         2.94   \n",
       "11 0 days 00:00:00.000007586 0 days 00:00:05.599000         2.95   \n",
       "12           0 days 00:00:00 0 days 00:00:05.573000         2.94   \n",
       "13 0 days 00:00:00.000180999 0 days 00:00:04.249000         2.24   \n",
       "14 0 days 00:00:00.000193626        0 days 00:00:00         0.00   \n",
       "15 0 days 00:00:00.000833610 0 days 00:00:04.250000         2.24   \n",
       "16           0 days 00:00:00 0 days 00:00:04.249000         2.24   \n",
       "17           0 days 00:00:00 0 days 00:00:04.107000         2.17   \n",
       "18 0 days 00:00:00.000047360        0 days 00:00:00         0.00   \n",
       "19 0 days 00:00:00.000045322 0 days 00:00:03.021000         1.59   \n",
       "\n",
       "               CUDA total             CUDA time avg  ... Self CUDA Mem  \\\n",
       "0  0 days 00:03:18.293000    0 days 00:00:01.983000  ...      -2.26 Gb   \n",
       "1  0 days 00:03:16.160000    0 days 00:00:01.981000  ...   -2037.62 Gb   \n",
       "2  0 days 00:02:22.679000    0 days 00:00:01.441000  ...     -10.33 Gb   \n",
       "4  0 days 00:00:43.279000    0 days 00:00:00.437162  ...   -4217.96 Gb   \n",
       "5  0 days 00:00:32.480000    0 days 00:00:00.008202  ...   -1148.08 Gb   \n",
       "6  0 days 00:00:31.387000    0 days 00:00:00.039631  ...    -895.44 Gb   \n",
       "7  0 days 00:00:29.296000    0 days 00:00:00.009864  ...    2448.08 Gb   \n",
       "8  0 days 00:00:27.156000    0 days 00:00:00.004676  ...           0 b   \n",
       "9  0 days 00:00:11.090000    0 days 00:00:00.112018  ...    -991.42 Gb   \n",
       "10 0 days 00:00:05.616000    0 days 00:00:00.007091  ...           0 b   \n",
       "11 0 days 00:00:05.599000 0 days 00:00:00.000240743  ...    -256.00 Mb   \n",
       "12 0 days 00:00:05.573000    0 days 00:00:00.007037  ...           0 b   \n",
       "13 0 days 00:00:04.560000    0 days 00:00:00.001245  ...    2751.60 Gb   \n",
       "14 0 days 00:00:04.525000    0 days 00:00:00.001306  ...   -1170.54 Gb   \n",
       "15 0 days 00:00:04.351000    0 days 00:00:00.003139  ...    2550.98 Gb   \n",
       "16 0 days 00:00:04.249000 0 days 00:00:00.000999864  ...           0 b   \n",
       "17 0 days 00:00:04.107000    0 days 00:00:00.004149  ...           0 b   \n",
       "18 0 days 00:00:03.191000    0 days 00:00:00.003223  ...           0 b   \n",
       "19 0 days 00:00:03.191000    0 days 00:00:00.003223  ...     506.97 Gb   \n",
       "\n",
       "   # of Calls CPU Mem_number CPU Mem_unit  Self CPU Mem_number  \\\n",
       "0         100           1.03           Gb               -32.94   \n",
       "1          99           0.00            b                 0.00   \n",
       "2          99           0.00            b                 0.00   \n",
       "4          99           0.00            b                 0.00   \n",
       "5        3960           0.00            b                 0.00   \n",
       "6         792           0.00            b                 0.00   \n",
       "7        2970           0.00            b                 0.00   \n",
       "8        5808           0.00            b                 0.00   \n",
       "9          99           0.00            b                 0.00   \n",
       "10        792           0.00            b                 0.00   \n",
       "11      23257           0.00            b                 0.00   \n",
       "12        792           0.00            b                 0.00   \n",
       "13       3663           0.00            b                 0.00   \n",
       "14       3465           0.00            b                 0.00   \n",
       "15       1386           0.00            b                 0.00   \n",
       "16       4250           0.00            b                 0.00   \n",
       "17        990           0.00            b                 0.00   \n",
       "18        990           0.00            b                 0.00   \n",
       "19        990           0.00            b                 0.00   \n",
       "\n",
       "    Self CPU Mem_unit CUDA Mem_number  CUDA Mem_unit Self CUDA Mem_number  \\\n",
       "0                  Mb          -41.97             Mb                -2.26   \n",
       "1                   b            1.01             Gb             -2037.62   \n",
       "2                   b            5.01             Gb               -10.33   \n",
       "4                   b          201.32             Gb             -4217.96   \n",
       "5                   b         1804.75             Gb             -1148.08   \n",
       "6                   b          810.32             Gb              -895.44   \n",
       "7                   b         2447.83             Gb              2448.08   \n",
       "8                   b            0.00              b                 0.00   \n",
       "9                   b          201.32             Gb              -991.42   \n",
       "10                  b         1548.52             Gb                 0.00   \n",
       "11                  b         -256.00             Mb              -256.00   \n",
       "12                  b            0.00              b                 0.00   \n",
       "13                  b         2751.60             Gb              2751.60   \n",
       "14                  b         1580.98             Gb             -1170.54   \n",
       "15                  b         2550.98             Gb              2550.98   \n",
       "16                  b            0.00              b                 0.00   \n",
       "17                  b            0.00              b                 0.00   \n",
       "18                  b          506.97             Gb                 0.00   \n",
       "19                  b          506.97             Gb               506.97   \n",
       "\n",
       "    Self CUDA Mem_unit  \n",
       "0                   Gb  \n",
       "1                   Gb  \n",
       "2                   Gb  \n",
       "4                   Gb  \n",
       "5                   Gb  \n",
       "6                   Gb  \n",
       "7                   Gb  \n",
       "8                    b  \n",
       "9                   Gb  \n",
       "10                   b  \n",
       "11                  Mb  \n",
       "12                   b  \n",
       "13                  Gb  \n",
       "14                  Gb  \n",
       "15                  Gb  \n",
       "16                   b  \n",
       "17                   b  \n",
       "18                   b  \n",
       "19                  Gb  \n",
       "\n",
       "[19 rows x 23 columns]"
      ],
      "text/html": [
       "<div>\n",
       "<style scoped>\n",
       "    .dataframe tbody tr th:only-of-type {\n",
       "        vertical-align: middle;\n",
       "    }\n",
       "\n",
       "    .dataframe tbody tr th {\n",
       "        vertical-align: top;\n",
       "    }\n",
       "\n",
       "    .dataframe thead th {\n",
       "        text-align: right;\n",
       "    }\n",
       "</style>\n",
       "<table border=\"1\" class=\"dataframe\">\n",
       "  <thead>\n",
       "    <tr style=\"text-align: right;\">\n",
       "      <th></th>\n",
       "      <th>Name</th>\n",
       "      <th>Self CPU %</th>\n",
       "      <th>Self CPU</th>\n",
       "      <th>CPU total %</th>\n",
       "      <th>CPU total</th>\n",
       "      <th>CPU time avg</th>\n",
       "      <th>Self CUDA</th>\n",
       "      <th>Self CUDA %</th>\n",
       "      <th>CUDA total</th>\n",
       "      <th>CUDA time avg</th>\n",
       "      <th>...</th>\n",
       "      <th>Self CUDA Mem</th>\n",
       "      <th># of Calls</th>\n",
       "      <th>CPU Mem_number</th>\n",
       "      <th>CPU Mem_unit</th>\n",
       "      <th>Self CPU Mem_number</th>\n",
       "      <th>Self CPU Mem_unit</th>\n",
       "      <th>CUDA Mem_number</th>\n",
       "      <th>CUDA Mem_unit</th>\n",
       "      <th>Self CUDA Mem_number</th>\n",
       "      <th>Self CUDA Mem_unit</th>\n",
       "    </tr>\n",
       "  </thead>\n",
       "  <tbody>\n",
       "    <tr>\n",
       "      <th>0</th>\n",
       "      <td>ProfilerStep*</td>\n",
       "      <td>0.06</td>\n",
       "      <td>0 days 00:00:00.108532</td>\n",
       "      <td>100.00</td>\n",
       "      <td>0 days 00:03:11.816000</td>\n",
       "      <td>0 days 00:00:01.918000</td>\n",
       "      <td>0 days 00:00:00</td>\n",
       "      <td>0.00</td>\n",
       "      <td>0 days 00:03:18.293000</td>\n",
       "      <td>0 days 00:00:01.983000</td>\n",
       "      <td>...</td>\n",
       "      <td>-2.26 Gb</td>\n",
       "      <td>100</td>\n",
       "      <td>1.03</td>\n",
       "      <td>Gb</td>\n",
       "      <td>-32.94</td>\n",
       "      <td>Mb</td>\n",
       "      <td>-41.97</td>\n",
       "      <td>Mb</td>\n",
       "      <td>-2.26</td>\n",
       "      <td>Gb</td>\n",
       "    </tr>\n",
       "    <tr>\n",
       "      <th>1</th>\n",
       "      <td>[pl][profile][Strategy]SingleDeviceStrategy.pr...</td>\n",
       "      <td>-0.18</td>\n",
       "      <td>-1 days +23:59:59.996371</td>\n",
       "      <td>99.59</td>\n",
       "      <td>0 days 00:03:11.031000</td>\n",
       "      <td>0 days 00:00:01.930000</td>\n",
       "      <td>0 days 00:00:00</td>\n",
       "      <td>0.00</td>\n",
       "      <td>0 days 00:03:16.160000</td>\n",
       "      <td>0 days 00:00:01.981000</td>\n",
       "      <td>...</td>\n",
       "      <td>-2037.62 Gb</td>\n",
       "      <td>99</td>\n",
       "      <td>0.00</td>\n",
       "      <td>b</td>\n",
       "      <td>0.00</td>\n",
       "      <td>b</td>\n",
       "      <td>1.01</td>\n",
       "      <td>Gb</td>\n",
       "      <td>-2037.62</td>\n",
       "      <td>Gb</td>\n",
       "    </tr>\n",
       "    <tr>\n",
       "      <th>2</th>\n",
       "      <td>torch_cluster::knn</td>\n",
       "      <td>0.00</td>\n",
       "      <td>0 days 00:00:00.006578</td>\n",
       "      <td>75.08</td>\n",
       "      <td>0 days 00:02:24.016000</td>\n",
       "      <td>0 days 00:00:01.455000</td>\n",
       "      <td>0 days 00:02:21.944000</td>\n",
       "      <td>74.86</td>\n",
       "      <td>0 days 00:02:22.679000</td>\n",
       "      <td>0 days 00:00:01.441000</td>\n",
       "      <td>...</td>\n",
       "      <td>-10.33 Gb</td>\n",
       "      <td>99</td>\n",
       "      <td>0.00</td>\n",
       "      <td>b</td>\n",
       "      <td>0.00</td>\n",
       "      <td>b</td>\n",
       "      <td>5.01</td>\n",
       "      <td>Gb</td>\n",
       "      <td>-10.33</td>\n",
       "      <td>Gb</td>\n",
       "    </tr>\n",
       "    <tr>\n",
       "      <th>4</th>\n",
       "      <td>[pl][module]gnn_tracking.models.resin.ResIN: m...</td>\n",
       "      <td>0.04</td>\n",
       "      <td>0 days 00:00:00.077237</td>\n",
       "      <td>1.49</td>\n",
       "      <td>0 days 00:00:02.863000</td>\n",
       "      <td>0 days 00:00:00.028919</td>\n",
       "      <td>0 days 00:00:00</td>\n",
       "      <td>0.00</td>\n",
       "      <td>0 days 00:00:43.279000</td>\n",
       "      <td>0 days 00:00:00.437162</td>\n",
       "      <td>...</td>\n",
       "      <td>-4217.96 Gb</td>\n",
       "      <td>99</td>\n",
       "      <td>0.00</td>\n",
       "      <td>b</td>\n",
       "      <td>0.00</td>\n",
       "      <td>b</td>\n",
       "      <td>201.32</td>\n",
       "      <td>Gb</td>\n",
       "      <td>-4217.96</td>\n",
       "      <td>Gb</td>\n",
       "    </tr>\n",
       "    <tr>\n",
       "      <th>5</th>\n",
       "      <td>aten::linear</td>\n",
       "      <td>0.01</td>\n",
       "      <td>0 days 00:00:00.014506</td>\n",
       "      <td>0.49</td>\n",
       "      <td>0 days 00:00:00.932166</td>\n",
       "      <td>0 days 00:00:00.000235395</td>\n",
       "      <td>0 days 00:00:00</td>\n",
       "      <td>0.00</td>\n",
       "      <td>0 days 00:00:32.480000</td>\n",
       "      <td>0 days 00:00:00.008202</td>\n",
       "      <td>...</td>\n",
       "      <td>-1148.08 Gb</td>\n",
       "      <td>3960</td>\n",
       "      <td>0.00</td>\n",
       "      <td>b</td>\n",
       "      <td>0.00</td>\n",
       "      <td>b</td>\n",
       "      <td>1804.75</td>\n",
       "      <td>Gb</td>\n",
       "      <td>-1148.08</td>\n",
       "      <td>Gb</td>\n",
       "    </tr>\n",
       "    <tr>\n",
       "      <th>6</th>\n",
       "      <td>forward</td>\n",
       "      <td>0.01</td>\n",
       "      <td>0 days 00:00:00.010481</td>\n",
       "      <td>0.77</td>\n",
       "      <td>0 days 00:00:01.470000</td>\n",
       "      <td>0 days 00:00:00.001856</td>\n",
       "      <td>0 days 00:00:00</td>\n",
       "      <td>0.00</td>\n",
       "      <td>0 days 00:00:31.387000</td>\n",
       "      <td>0 days 00:00:00.039631</td>\n",
       "      <td>...</td>\n",
       "      <td>-895.44 Gb</td>\n",
       "      <td>792</td>\n",
       "      <td>0.00</td>\n",
       "      <td>b</td>\n",
       "      <td>0.00</td>\n",
       "      <td>b</td>\n",
       "      <td>810.32</td>\n",
       "      <td>Gb</td>\n",
       "      <td>-895.44</td>\n",
       "      <td>Gb</td>\n",
       "    </tr>\n",
       "    <tr>\n",
       "      <th>7</th>\n",
       "      <td>aten::addmm</td>\n",
       "      <td>0.05</td>\n",
       "      <td>0 days 00:00:00.088928</td>\n",
       "      <td>0.45</td>\n",
       "      <td>0 days 00:00:00.853623</td>\n",
       "      <td>0 days 00:00:00.000287415</td>\n",
       "      <td>0 days 00:00:27.668000</td>\n",
       "      <td>14.59</td>\n",
       "      <td>0 days 00:00:29.296000</td>\n",
       "      <td>0 days 00:00:00.009864</td>\n",
       "      <td>...</td>\n",
       "      <td>2448.08 Gb</td>\n",
       "      <td>2970</td>\n",
       "      <td>0.00</td>\n",
       "      <td>b</td>\n",
       "      <td>0.00</td>\n",
       "      <td>b</td>\n",
       "      <td>2447.83</td>\n",
       "      <td>Gb</td>\n",
       "      <td>2448.08</td>\n",
       "      <td>Gb</td>\n",
       "    </tr>\n",
       "    <tr>\n",
       "      <th>8</th>\n",
       "      <td>ampere_sgemm_64x64_tn</td>\n",
       "      <td>0.00</td>\n",
       "      <td>0 days 00:00:00</td>\n",
       "      <td>0.00</td>\n",
       "      <td>0 days 00:00:00</td>\n",
       "      <td>0 days 00:00:00</td>\n",
       "      <td>0 days 00:00:27.156000</td>\n",
       "      <td>14.32</td>\n",
       "      <td>0 days 00:00:27.156000</td>\n",
       "      <td>0 days 00:00:00.004676</td>\n",
       "      <td>...</td>\n",
       "      <td>0 b</td>\n",
       "      <td>5808</td>\n",
       "      <td>0.00</td>\n",
       "      <td>b</td>\n",
       "      <td>0.00</td>\n",
       "      <td>b</td>\n",
       "      <td>0.00</td>\n",
       "      <td>b</td>\n",
       "      <td>0.00</td>\n",
       "      <td>b</td>\n",
       "    </tr>\n",
       "    <tr>\n",
       "      <th>9</th>\n",
       "      <td>[pl][module]gnn_tracking.models.interaction_ne...</td>\n",
       "      <td>0.02</td>\n",
       "      <td>0 days 00:00:00.033033</td>\n",
       "      <td>0.79</td>\n",
       "      <td>0 days 00:00:01.514000</td>\n",
       "      <td>0 days 00:00:00.015291</td>\n",
       "      <td>0 days 00:00:00</td>\n",
       "      <td>0.00</td>\n",
       "      <td>0 days 00:00:11.090000</td>\n",
       "      <td>0 days 00:00:00.112018</td>\n",
       "      <td>...</td>\n",
       "      <td>-991.42 Gb</td>\n",
       "      <td>99</td>\n",
       "      <td>0.00</td>\n",
       "      <td>b</td>\n",
       "      <td>0.00</td>\n",
       "      <td>b</td>\n",
       "      <td>201.32</td>\n",
       "      <td>Gb</td>\n",
       "      <td>-991.42</td>\n",
       "      <td>Gb</td>\n",
       "    </tr>\n",
       "    <tr>\n",
       "      <th>10</th>\n",
       "      <td>aten::index_select</td>\n",
       "      <td>0.01</td>\n",
       "      <td>0 days 00:00:00.022611</td>\n",
       "      <td>0.03</td>\n",
       "      <td>0 days 00:00:00.049780</td>\n",
       "      <td>0 days 00:00:00.000062854</td>\n",
       "      <td>0 days 00:00:05.573000</td>\n",
       "      <td>2.94</td>\n",
       "      <td>0 days 00:00:05.616000</td>\n",
       "      <td>0 days 00:00:00.007091</td>\n",
       "      <td>...</td>\n",
       "      <td>0 b</td>\n",
       "      <td>792</td>\n",
       "      <td>0.00</td>\n",
       "      <td>b</td>\n",
       "      <td>0.00</td>\n",
       "      <td>b</td>\n",
       "      <td>1548.52</td>\n",
       "      <td>Gb</td>\n",
       "      <td>0.00</td>\n",
       "      <td>b</td>\n",
       "    </tr>\n",
       "    <tr>\n",
       "      <th>11</th>\n",
       "      <td>cudaLaunchKernel</td>\n",
       "      <td>0.09</td>\n",
       "      <td>0 days 00:00:00.176435</td>\n",
       "      <td>0.09</td>\n",
       "      <td>0 days 00:00:00.176435</td>\n",
       "      <td>0 days 00:00:00.000007586</td>\n",
       "      <td>0 days 00:00:05.599000</td>\n",
       "      <td>2.95</td>\n",
       "      <td>0 days 00:00:05.599000</td>\n",
       "      <td>0 days 00:00:00.000240743</td>\n",
       "      <td>...</td>\n",
       "      <td>-256.00 Mb</td>\n",
       "      <td>23257</td>\n",
       "      <td>0.00</td>\n",
       "      <td>b</td>\n",
       "      <td>0.00</td>\n",
       "      <td>b</td>\n",
       "      <td>-256.00</td>\n",
       "      <td>Mb</td>\n",
       "      <td>-256.00</td>\n",
       "      <td>Mb</td>\n",
       "    </tr>\n",
       "    <tr>\n",
       "      <th>12</th>\n",
       "      <td>void at::native::(anonymous namespace)::indexS...</td>\n",
       "      <td>0.00</td>\n",
       "      <td>0 days 00:00:00</td>\n",
       "      <td>0.00</td>\n",
       "      <td>0 days 00:00:00</td>\n",
       "      <td>0 days 00:00:00</td>\n",
       "      <td>0 days 00:00:05.573000</td>\n",
       "      <td>2.94</td>\n",
       "      <td>0 days 00:00:05.573000</td>\n",
       "      <td>0 days 00:00:00.007037</td>\n",
       "      <td>...</td>\n",
       "      <td>0 b</td>\n",
       "      <td>792</td>\n",
       "      <td>0.00</td>\n",
       "      <td>b</td>\n",
       "      <td>0.00</td>\n",
       "      <td>b</td>\n",
       "      <td>0.00</td>\n",
       "      <td>b</td>\n",
       "      <td>0.00</td>\n",
       "      <td>b</td>\n",
       "    </tr>\n",
       "    <tr>\n",
       "      <th>13</th>\n",
       "      <td>aten::clamp_min</td>\n",
       "      <td>0.02</td>\n",
       "      <td>0 days 00:00:00.040644</td>\n",
       "      <td>0.35</td>\n",
       "      <td>0 days 00:00:00.663000</td>\n",
       "      <td>0 days 00:00:00.000180999</td>\n",
       "      <td>0 days 00:00:04.249000</td>\n",
       "      <td>2.24</td>\n",
       "      <td>0 days 00:00:04.560000</td>\n",
       "      <td>0 days 00:00:00.001245</td>\n",
       "      <td>...</td>\n",
       "      <td>2751.60 Gb</td>\n",
       "      <td>3663</td>\n",
       "      <td>0.00</td>\n",
       "      <td>b</td>\n",
       "      <td>0.00</td>\n",
       "      <td>b</td>\n",
       "      <td>2751.60</td>\n",
       "      <td>Gb</td>\n",
       "      <td>2751.60</td>\n",
       "      <td>Gb</td>\n",
       "    </tr>\n",
       "    <tr>\n",
       "      <th>14</th>\n",
       "      <td>aten::relu</td>\n",
       "      <td>0.01</td>\n",
       "      <td>0 days 00:00:00.014085</td>\n",
       "      <td>0.35</td>\n",
       "      <td>0 days 00:00:00.670914</td>\n",
       "      <td>0 days 00:00:00.000193626</td>\n",
       "      <td>0 days 00:00:00</td>\n",
       "      <td>0.00</td>\n",
       "      <td>0 days 00:00:04.525000</td>\n",
       "      <td>0 days 00:00:00.001306</td>\n",
       "      <td>...</td>\n",
       "      <td>-1170.54 Gb</td>\n",
       "      <td>3465</td>\n",
       "      <td>0.00</td>\n",
       "      <td>b</td>\n",
       "      <td>0.00</td>\n",
       "      <td>b</td>\n",
       "      <td>1580.98</td>\n",
       "      <td>Gb</td>\n",
       "      <td>-1170.54</td>\n",
       "      <td>Gb</td>\n",
       "    </tr>\n",
       "    <tr>\n",
       "      <th>15</th>\n",
       "      <td>aten::cat</td>\n",
       "      <td>0.03</td>\n",
       "      <td>0 days 00:00:00.057235</td>\n",
       "      <td>0.60</td>\n",
       "      <td>0 days 00:00:01.155000</td>\n",
       "      <td>0 days 00:00:00.000833610</td>\n",
       "      <td>0 days 00:00:04.250000</td>\n",
       "      <td>2.24</td>\n",
       "      <td>0 days 00:00:04.351000</td>\n",
       "      <td>0 days 00:00:00.003139</td>\n",
       "      <td>...</td>\n",
       "      <td>2550.98 Gb</td>\n",
       "      <td>1386</td>\n",
       "      <td>0.00</td>\n",
       "      <td>b</td>\n",
       "      <td>0.00</td>\n",
       "      <td>b</td>\n",
       "      <td>2550.98</td>\n",
       "      <td>Gb</td>\n",
       "      <td>2550.98</td>\n",
       "      <td>Gb</td>\n",
       "    </tr>\n",
       "    <tr>\n",
       "      <th>16</th>\n",
       "      <td>void at::native::vectorized_elementwise_kernel...</td>\n",
       "      <td>0.00</td>\n",
       "      <td>0 days 00:00:00</td>\n",
       "      <td>0.00</td>\n",
       "      <td>0 days 00:00:00</td>\n",
       "      <td>0 days 00:00:00</td>\n",
       "      <td>0 days 00:00:04.249000</td>\n",
       "      <td>2.24</td>\n",
       "      <td>0 days 00:00:04.249000</td>\n",
       "      <td>0 days 00:00:00.000999864</td>\n",
       "      <td>...</td>\n",
       "      <td>0 b</td>\n",
       "      <td>4250</td>\n",
       "      <td>0.00</td>\n",
       "      <td>b</td>\n",
       "      <td>0.00</td>\n",
       "      <td>b</td>\n",
       "      <td>0.00</td>\n",
       "      <td>b</td>\n",
       "      <td>0.00</td>\n",
       "      <td>b</td>\n",
       "    </tr>\n",
       "    <tr>\n",
       "      <th>17</th>\n",
       "      <td>void at::native::(anonymous namespace)::CatArr...</td>\n",
       "      <td>0.00</td>\n",
       "      <td>0 days 00:00:00</td>\n",
       "      <td>0.00</td>\n",
       "      <td>0 days 00:00:00</td>\n",
       "      <td>0 days 00:00:00</td>\n",
       "      <td>0 days 00:00:04.107000</td>\n",
       "      <td>2.17</td>\n",
       "      <td>0 days 00:00:04.107000</td>\n",
       "      <td>0 days 00:00:00.004149</td>\n",
       "      <td>...</td>\n",
       "      <td>0 b</td>\n",
       "      <td>990</td>\n",
       "      <td>0.00</td>\n",
       "      <td>b</td>\n",
       "      <td>0.00</td>\n",
       "      <td>b</td>\n",
       "      <td>0.00</td>\n",
       "      <td>b</td>\n",
       "      <td>0.00</td>\n",
       "      <td>b</td>\n",
       "    </tr>\n",
       "    <tr>\n",
       "      <th>18</th>\n",
       "      <td>aten::matmul</td>\n",
       "      <td>0.00</td>\n",
       "      <td>0 days 00:00:00.002017</td>\n",
       "      <td>0.02</td>\n",
       "      <td>0 days 00:00:00.046886</td>\n",
       "      <td>0 days 00:00:00.000047360</td>\n",
       "      <td>0 days 00:00:00</td>\n",
       "      <td>0.00</td>\n",
       "      <td>0 days 00:00:03.191000</td>\n",
       "      <td>0 days 00:00:00.003223</td>\n",
       "      <td>...</td>\n",
       "      <td>0 b</td>\n",
       "      <td>990</td>\n",
       "      <td>0.00</td>\n",
       "      <td>b</td>\n",
       "      <td>0.00</td>\n",
       "      <td>b</td>\n",
       "      <td>506.97</td>\n",
       "      <td>Gb</td>\n",
       "      <td>0.00</td>\n",
       "      <td>b</td>\n",
       "    </tr>\n",
       "    <tr>\n",
       "      <th>19</th>\n",
       "      <td>aten::mm</td>\n",
       "      <td>0.02</td>\n",
       "      <td>0 days 00:00:00.035187</td>\n",
       "      <td>0.02</td>\n",
       "      <td>0 days 00:00:00.044869</td>\n",
       "      <td>0 days 00:00:00.000045322</td>\n",
       "      <td>0 days 00:00:03.021000</td>\n",
       "      <td>1.59</td>\n",
       "      <td>0 days 00:00:03.191000</td>\n",
       "      <td>0 days 00:00:00.003223</td>\n",
       "      <td>...</td>\n",
       "      <td>506.97 Gb</td>\n",
       "      <td>990</td>\n",
       "      <td>0.00</td>\n",
       "      <td>b</td>\n",
       "      <td>0.00</td>\n",
       "      <td>b</td>\n",
       "      <td>506.97</td>\n",
       "      <td>Gb</td>\n",
       "      <td>506.97</td>\n",
       "      <td>Gb</td>\n",
       "    </tr>\n",
       "  </tbody>\n",
       "</table>\n",
       "<p>19 rows × 23 columns</p>\n",
       "</div>"
      ]
     },
     "execution_count": 7,
     "metadata": {},
     "output_type": "execute_result"
    }
   ],
   "execution_count": 7
  },
  {
   "cell_type": "code",
   "execution_count": 24,
   "id": "53fdb65d-e0f5-49b1-99f5-0b7de14ae57d",
   "metadata": {},
   "outputs": [
    {
     "data": {
      "text/html": [
       "<div>\n",
       "<style scoped>\n",
       "    .dataframe tbody tr th:only-of-type {\n",
       "        vertical-align: middle;\n",
       "    }\n",
       "\n",
       "    .dataframe tbody tr th {\n",
       "        vertical-align: top;\n",
       "    }\n",
       "\n",
       "    .dataframe thead th {\n",
       "        text-align: right;\n",
       "    }\n",
       "</style>\n",
       "<table border=\"1\" class=\"dataframe\">\n",
       "  <thead>\n",
       "    <tr style=\"text-align: right;\">\n",
       "      <th></th>\n",
       "      <th>Name</th>\n",
       "      <th>Self CPU %</th>\n",
       "      <th>Self CPU</th>\n",
       "      <th>CPU total %</th>\n",
       "      <th>CPU total</th>\n",
       "      <th>CPU time avg</th>\n",
       "      <th>Self CUDA</th>\n",
       "      <th>Self CUDA %</th>\n",
       "      <th>CUDA total</th>\n",
       "      <th>CUDA time avg</th>\n",
       "      <th>...</th>\n",
       "      <th>Self CUDA Mem</th>\n",
       "      <th># of Calls</th>\n",
       "      <th>CPU Mem_number</th>\n",
       "      <th>CPU Mem_unit</th>\n",
       "      <th>Self CPU Mem_number</th>\n",
       "      <th>Self CPU Mem_unit</th>\n",
       "      <th>CUDA Mem_number</th>\n",
       "      <th>CUDA Mem_unit</th>\n",
       "      <th>Self CUDA Mem_number</th>\n",
       "      <th>Self CUDA Mem_unit</th>\n",
       "    </tr>\n",
       "  </thead>\n",
       "  <tbody>\n",
       "    <tr>\n",
       "      <th>0</th>\n",
       "      <td>ProfilerStep*</td>\n",
       "      <td>3.51</td>\n",
       "      <td>0 days 00:00:00.463859</td>\n",
       "      <td>100.00</td>\n",
       "      <td>0 days 00:00:13.231000</td>\n",
       "      <td>0 days 00:00:00.013231</td>\n",
       "      <td>0 days 00:00:00</td>\n",
       "      <td>0.00</td>\n",
       "      <td>0 days 00:00:00.937428</td>\n",
       "      <td>0 days 00:00:00.000937428</td>\n",
       "      <td>...</td>\n",
       "      <td>-689.64 Mb</td>\n",
       "      <td>1000</td>\n",
       "      <td>-257.81</td>\n",
       "      <td>Kb</td>\n",
       "      <td>-257.81</td>\n",
       "      <td>Kb</td>\n",
       "      <td>98.50</td>\n",
       "      <td>Kb</td>\n",
       "      <td>-689.64</td>\n",
       "      <td>Mb</td>\n",
       "    </tr>\n",
       "    <tr>\n",
       "      <th>1</th>\n",
       "      <td>[pl][profile][_EvaluationLoop].test_next</td>\n",
       "      <td>0.22</td>\n",
       "      <td>0 days 00:00:00.029611</td>\n",
       "      <td>81.16</td>\n",
       "      <td>0 days 00:00:10.739000</td>\n",
       "      <td>0 days 00:00:00.010739</td>\n",
       "      <td>0 days 00:00:00</td>\n",
       "      <td>0.00</td>\n",
       "      <td>0 days 00:00:00.023994</td>\n",
       "      <td>0 days 00:00:00.000023994</td>\n",
       "      <td>...</td>\n",
       "      <td>0 b</td>\n",
       "      <td>1000</td>\n",
       "      <td>0.00</td>\n",
       "      <td>b</td>\n",
       "      <td>0.00</td>\n",
       "      <td>b</td>\n",
       "      <td>0.00</td>\n",
       "      <td>b</td>\n",
       "      <td>0.00</td>\n",
       "      <td>b</td>\n",
       "    </tr>\n",
       "    <tr>\n",
       "      <th>3</th>\n",
       "      <td>[pl][profile][Strategy]SingleDeviceStrategy.te...</td>\n",
       "      <td>2.57</td>\n",
       "      <td>0 days 00:00:00.340660</td>\n",
       "      <td>8.30</td>\n",
       "      <td>0 days 00:00:01.098000</td>\n",
       "      <td>0 days 00:00:00.001098</td>\n",
       "      <td>0 days 00:00:00</td>\n",
       "      <td>0.00</td>\n",
       "      <td>0 days 00:00:00.837151</td>\n",
       "      <td>0 days 00:00:00.000837151</td>\n",
       "      <td>...</td>\n",
       "      <td>-190.68 Gb</td>\n",
       "      <td>1000</td>\n",
       "      <td>0.00</td>\n",
       "      <td>b</td>\n",
       "      <td>248.00</td>\n",
       "      <td>b</td>\n",
       "      <td>0.00</td>\n",
       "      <td>b</td>\n",
       "      <td>-190.68</td>\n",
       "      <td>Gb</td>\n",
       "    </tr>\n",
       "    <tr>\n",
       "      <th>4</th>\n",
       "      <td>[pl][profile][Strategy]SingleDeviceStrategy.ba...</td>\n",
       "      <td>0.48</td>\n",
       "      <td>0 days 00:00:00.064053</td>\n",
       "      <td>4.02</td>\n",
       "      <td>0 days 00:00:00.531606</td>\n",
       "      <td>0 days 00:00:00.000531606</td>\n",
       "      <td>0 days 00:00:00</td>\n",
       "      <td>0.00</td>\n",
       "      <td>0 days 00:00:00.076283</td>\n",
       "      <td>0 days 00:00:00.000076283</td>\n",
       "      <td>...</td>\n",
       "      <td>0 b</td>\n",
       "      <td>1000</td>\n",
       "      <td>0.00</td>\n",
       "      <td>b</td>\n",
       "      <td>0.00</td>\n",
       "      <td>b</td>\n",
       "      <td>689.74</td>\n",
       "      <td>Mb</td>\n",
       "      <td>0.00</td>\n",
       "      <td>b</td>\n",
       "    </tr>\n",
       "    <tr>\n",
       "      <th>5</th>\n",
       "      <td>[pl][profile][LightningModule]MLModule.transfe...</td>\n",
       "      <td>0.62</td>\n",
       "      <td>0 days 00:00:00.081671</td>\n",
       "      <td>3.47</td>\n",
       "      <td>0 days 00:00:00.458594</td>\n",
       "      <td>0 days 00:00:00.000458594</td>\n",
       "      <td>0 days 00:00:00</td>\n",
       "      <td>0.00</td>\n",
       "      <td>0 days 00:00:00.076283</td>\n",
       "      <td>0 days 00:00:00.000076283</td>\n",
       "      <td>...</td>\n",
       "      <td>-57.13 Mb</td>\n",
       "      <td>1000</td>\n",
       "      <td>0.00</td>\n",
       "      <td>b</td>\n",
       "      <td>0.00</td>\n",
       "      <td>b</td>\n",
       "      <td>689.74</td>\n",
       "      <td>Mb</td>\n",
       "      <td>-57.13</td>\n",
       "      <td>Mb</td>\n",
       "    </tr>\n",
       "    <tr>\n",
       "      <th>6</th>\n",
       "      <td>aten::to</td>\n",
       "      <td>0.28</td>\n",
       "      <td>0 days 00:00:00.036754</td>\n",
       "      <td>2.60</td>\n",
       "      <td>0 days 00:00:00.343489</td>\n",
       "      <td>0 days 00:00:00.000026422</td>\n",
       "      <td>0 days 00:00:00</td>\n",
       "      <td>0.00</td>\n",
       "      <td>0 days 00:00:00.067086</td>\n",
       "      <td>0 days 00:00:00.000005160</td>\n",
       "      <td>...</td>\n",
       "      <td>57.13 Mb</td>\n",
       "      <td>13000</td>\n",
       "      <td>0.00</td>\n",
       "      <td>b</td>\n",
       "      <td>0.00</td>\n",
       "      <td>b</td>\n",
       "      <td>689.74</td>\n",
       "      <td>Mb</td>\n",
       "      <td>57.13</td>\n",
       "      <td>Mb</td>\n",
       "    </tr>\n",
       "    <tr>\n",
       "      <th>7</th>\n",
       "      <td>[pl][profile][Callback]TQDMProgressBar.on_test...</td>\n",
       "      <td>2.55</td>\n",
       "      <td>0 days 00:00:00.336990</td>\n",
       "      <td>2.55</td>\n",
       "      <td>0 days 00:00:00.336990</td>\n",
       "      <td>0 days 00:00:00.000336990</td>\n",
       "      <td>0 days 00:00:00</td>\n",
       "      <td>0.00</td>\n",
       "      <td>0 days 00:00:00</td>\n",
       "      <td>0 days 00:00:00</td>\n",
       "      <td>...</td>\n",
       "      <td>0 b</td>\n",
       "      <td>1000</td>\n",
       "      <td>0.00</td>\n",
       "      <td>b</td>\n",
       "      <td>0.00</td>\n",
       "      <td>b</td>\n",
       "      <td>0.00</td>\n",
       "      <td>b</td>\n",
       "      <td>0.00</td>\n",
       "      <td>b</td>\n",
       "    </tr>\n",
       "    <tr>\n",
       "      <th>8</th>\n",
       "      <td>aten::_to_copy</td>\n",
       "      <td>0.33</td>\n",
       "      <td>0 days 00:00:00.043561</td>\n",
       "      <td>2.50</td>\n",
       "      <td>0 days 00:00:00.330814</td>\n",
       "      <td>0 days 00:00:00.000025447</td>\n",
       "      <td>0 days 00:00:00</td>\n",
       "      <td>0.00</td>\n",
       "      <td>0 days 00:00:00.072690</td>\n",
       "      <td>0 days 00:00:00.000005592</td>\n",
       "      <td>...</td>\n",
       "      <td>0 b</td>\n",
       "      <td>13000</td>\n",
       "      <td>0.00</td>\n",
       "      <td>b</td>\n",
       "      <td>0.00</td>\n",
       "      <td>b</td>\n",
       "      <td>689.74</td>\n",
       "      <td>Mb</td>\n",
       "      <td>0.00</td>\n",
       "      <td>b</td>\n",
       "    </tr>\n",
       "    <tr>\n",
       "      <th>9</th>\n",
       "      <td>aten::linear</td>\n",
       "      <td>0.13</td>\n",
       "      <td>0 days 00:00:00.017513</td>\n",
       "      <td>2.11</td>\n",
       "      <td>0 days 00:00:00.279777</td>\n",
       "      <td>0 days 00:00:00.000046630</td>\n",
       "      <td>0 days 00:00:00</td>\n",
       "      <td>0.00</td>\n",
       "      <td>0 days 00:00:00.659247</td>\n",
       "      <td>0 days 00:00:00.000109874</td>\n",
       "      <td>...</td>\n",
       "      <td>129.21 Mb</td>\n",
       "      <td>6000</td>\n",
       "      <td>0.00</td>\n",
       "      <td>b</td>\n",
       "      <td>0.00</td>\n",
       "      <td>b</td>\n",
       "      <td>43.53</td>\n",
       "      <td>Gb</td>\n",
       "      <td>129.21</td>\n",
       "      <td>Mb</td>\n",
       "    </tr>\n",
       "    <tr>\n",
       "      <th>10</th>\n",
       "      <td>aten::matmul</td>\n",
       "      <td>0.08</td>\n",
       "      <td>0 days 00:00:00.010903</td>\n",
       "      <td>1.77</td>\n",
       "      <td>0 days 00:00:00.234416</td>\n",
       "      <td>0 days 00:00:00.000039069</td>\n",
       "      <td>0 days 00:00:00</td>\n",
       "      <td>0.00</td>\n",
       "      <td>0 days 00:00:00.661651</td>\n",
       "      <td>0 days 00:00:00.000110275</td>\n",
       "      <td>...</td>\n",
       "      <td>43.77 Mb</td>\n",
       "      <td>6000</td>\n",
       "      <td>0.00</td>\n",
       "      <td>b</td>\n",
       "      <td>0.00</td>\n",
       "      <td>b</td>\n",
       "      <td>43.53</td>\n",
       "      <td>Gb</td>\n",
       "      <td>43.77</td>\n",
       "      <td>Mb</td>\n",
       "    </tr>\n",
       "    <tr>\n",
       "      <th>11</th>\n",
       "      <td>aten::copy_</td>\n",
       "      <td>0.45</td>\n",
       "      <td>0 days 00:00:00.059471</td>\n",
       "      <td>1.72</td>\n",
       "      <td>0 days 00:00:00.227455</td>\n",
       "      <td>0 days 00:00:00.000017497</td>\n",
       "      <td>0 days 00:00:00.046565</td>\n",
       "      <td>5.63</td>\n",
       "      <td>0 days 00:00:00.076283</td>\n",
       "      <td>0 days 00:00:00.000005868</td>\n",
       "      <td>...</td>\n",
       "      <td>0 b</td>\n",
       "      <td>13000</td>\n",
       "      <td>0.00</td>\n",
       "      <td>b</td>\n",
       "      <td>0.00</td>\n",
       "      <td>b</td>\n",
       "      <td>0.00</td>\n",
       "      <td>b</td>\n",
       "      <td>0.00</td>\n",
       "      <td>b</td>\n",
       "    </tr>\n",
       "    <tr>\n",
       "      <th>12</th>\n",
       "      <td>aten::mm</td>\n",
       "      <td>1.22</td>\n",
       "      <td>0 days 00:00:00.161399</td>\n",
       "      <td>1.69</td>\n",
       "      <td>0 days 00:00:00.223691</td>\n",
       "      <td>0 days 00:00:00.000037282</td>\n",
       "      <td>0 days 00:00:00.635585</td>\n",
       "      <td>76.89</td>\n",
       "      <td>0 days 00:00:00.662304</td>\n",
       "      <td>0 days 00:00:00.000110384</td>\n",
       "      <td>...</td>\n",
       "      <td>43.53 Gb</td>\n",
       "      <td>6000</td>\n",
       "      <td>0.00</td>\n",
       "      <td>b</td>\n",
       "      <td>0.00</td>\n",
       "      <td>b</td>\n",
       "      <td>43.53</td>\n",
       "      <td>Gb</td>\n",
       "      <td>43.53</td>\n",
       "      <td>Gb</td>\n",
       "    </tr>\n",
       "    <tr>\n",
       "      <th>13</th>\n",
       "      <td>cudaLaunchKernel</td>\n",
       "      <td>1.11</td>\n",
       "      <td>0 days 00:00:00.147488</td>\n",
       "      <td>1.11</td>\n",
       "      <td>0 days 00:00:00.147488</td>\n",
       "      <td>0 days 00:00:00.000005342</td>\n",
       "      <td>0 days 00:00:00.040881</td>\n",
       "      <td>4.95</td>\n",
       "      <td>0 days 00:00:00.040881</td>\n",
       "      <td>0 days 00:00:00.000001481</td>\n",
       "      <td>...</td>\n",
       "      <td>0 b</td>\n",
       "      <td>27611</td>\n",
       "      <td>0.00</td>\n",
       "      <td>b</td>\n",
       "      <td>0.00</td>\n",
       "      <td>b</td>\n",
       "      <td>0.00</td>\n",
       "      <td>b</td>\n",
       "      <td>0.00</td>\n",
       "      <td>b</td>\n",
       "    </tr>\n",
       "    <tr>\n",
       "      <th>14</th>\n",
       "      <td>aten::mul</td>\n",
       "      <td>0.70</td>\n",
       "      <td>0 days 00:00:00.093261</td>\n",
       "      <td>1.04</td>\n",
       "      <td>0 days 00:00:00.137338</td>\n",
       "      <td>0 days 00:00:00.000015260</td>\n",
       "      <td>0 days 00:00:00.059535</td>\n",
       "      <td>7.20</td>\n",
       "      <td>0 days 00:00:00.071513</td>\n",
       "      <td>0 days 00:00:00.000007946</td>\n",
       "      <td>...</td>\n",
       "      <td>69.37 Gb</td>\n",
       "      <td>9000</td>\n",
       "      <td>248.00</td>\n",
       "      <td>b</td>\n",
       "      <td>248.00</td>\n",
       "      <td>b</td>\n",
       "      <td>69.37</td>\n",
       "      <td>Gb</td>\n",
       "      <td>69.37</td>\n",
       "      <td>Gb</td>\n",
       "    </tr>\n",
       "    <tr>\n",
       "      <th>15</th>\n",
       "      <td>cudaStreamSynchronize</td>\n",
       "      <td>0.82</td>\n",
       "      <td>0 days 00:00:00.108760</td>\n",
       "      <td>0.82</td>\n",
       "      <td>0 days 00:00:00.108760</td>\n",
       "      <td>0 days 00:00:00.000009063</td>\n",
       "      <td>0 days 00:00:00.015664</td>\n",
       "      <td>1.89</td>\n",
       "      <td>0 days 00:00:00.015664</td>\n",
       "      <td>0 days 00:00:00.000001305</td>\n",
       "      <td>...</td>\n",
       "      <td>0 b</td>\n",
       "      <td>12000</td>\n",
       "      <td>0.00</td>\n",
       "      <td>b</td>\n",
       "      <td>0.00</td>\n",
       "      <td>b</td>\n",
       "      <td>0.00</td>\n",
       "      <td>b</td>\n",
       "      <td>0.00</td>\n",
       "      <td>b</td>\n",
       "    </tr>\n",
       "    <tr>\n",
       "      <th>16</th>\n",
       "      <td>[pl][module]torch.nn.modules.linear.Linear: mo...</td>\n",
       "      <td>0.18</td>\n",
       "      <td>0 days 00:00:00.023918</td>\n",
       "      <td>0.63</td>\n",
       "      <td>0 days 00:00:00.083140</td>\n",
       "      <td>0 days 00:00:00.000083140</td>\n",
       "      <td>0 days 00:00:00</td>\n",
       "      <td>0.00</td>\n",
       "      <td>0 days 00:00:00.017484</td>\n",
       "      <td>0 days 00:00:00.000017484</td>\n",
       "      <td>...</td>\n",
       "      <td>0 b</td>\n",
       "      <td>1000</td>\n",
       "      <td>0.00</td>\n",
       "      <td>b</td>\n",
       "      <td>0.00</td>\n",
       "      <td>b</td>\n",
       "      <td>8.66</td>\n",
       "      <td>Gb</td>\n",
       "      <td>0.00</td>\n",
       "      <td>b</td>\n",
       "    </tr>\n",
       "    <tr>\n",
       "      <th>17</th>\n",
       "      <td>aten::clamp_min</td>\n",
       "      <td>0.41</td>\n",
       "      <td>0 days 00:00:00.054269</td>\n",
       "      <td>0.62</td>\n",
       "      <td>0 days 00:00:00.081628</td>\n",
       "      <td>0 days 00:00:00.000013605</td>\n",
       "      <td>0 days 00:00:00.035347</td>\n",
       "      <td>4.28</td>\n",
       "      <td>0 days 00:00:00.044836</td>\n",
       "      <td>0 days 00:00:00.000007473</td>\n",
       "      <td>...</td>\n",
       "      <td>43.06 Gb</td>\n",
       "      <td>6000</td>\n",
       "      <td>0.00</td>\n",
       "      <td>b</td>\n",
       "      <td>0.00</td>\n",
       "      <td>b</td>\n",
       "      <td>43.06</td>\n",
       "      <td>Gb</td>\n",
       "      <td>43.06</td>\n",
       "      <td>Gb</td>\n",
       "    </tr>\n",
       "    <tr>\n",
       "      <th>18</th>\n",
       "      <td>[pl][module]torch.nn.modules.linear.Linear: mo...</td>\n",
       "      <td>0.16</td>\n",
       "      <td>0 days 00:00:00.021710</td>\n",
       "      <td>0.60</td>\n",
       "      <td>0 days 00:00:00.079626</td>\n",
       "      <td>0 days 00:00:00.000079626</td>\n",
       "      <td>0 days 00:00:00</td>\n",
       "      <td>0.00</td>\n",
       "      <td>0 days 00:00:00.157014</td>\n",
       "      <td>0 days 00:00:00.000157014</td>\n",
       "      <td>...</td>\n",
       "      <td>-18.92 Mb</td>\n",
       "      <td>1000</td>\n",
       "      <td>0.00</td>\n",
       "      <td>b</td>\n",
       "      <td>0.00</td>\n",
       "      <td>b</td>\n",
       "      <td>8.64</td>\n",
       "      <td>Gb</td>\n",
       "      <td>-18.92</td>\n",
       "      <td>Mb</td>\n",
       "    </tr>\n",
       "    <tr>\n",
       "      <th>19</th>\n",
       "      <td>aten::relu</td>\n",
       "      <td>0.11</td>\n",
       "      <td>0 days 00:00:00.015159</td>\n",
       "      <td>0.59</td>\n",
       "      <td>0 days 00:00:00.078512</td>\n",
       "      <td>0 days 00:00:00.000015702</td>\n",
       "      <td>0 days 00:00:00</td>\n",
       "      <td>0.00</td>\n",
       "      <td>0 days 00:00:00.042356</td>\n",
       "      <td>0 days 00:00:00.000008471</td>\n",
       "      <td>...</td>\n",
       "      <td>0 b</td>\n",
       "      <td>5000</td>\n",
       "      <td>0.00</td>\n",
       "      <td>b</td>\n",
       "      <td>0.00</td>\n",
       "      <td>b</td>\n",
       "      <td>43.05</td>\n",
       "      <td>Gb</td>\n",
       "      <td>0.00</td>\n",
       "      <td>b</td>\n",
       "    </tr>\n",
       "  </tbody>\n",
       "</table>\n",
       "<p>19 rows × 23 columns</p>\n",
       "</div>"
      ],
      "text/plain": [
       "                                                 Name  Self CPU %  \\\n",
       "0                                       ProfilerStep*        3.51   \n",
       "1            [pl][profile][_EvaluationLoop].test_next        0.22   \n",
       "3   [pl][profile][Strategy]SingleDeviceStrategy.te...        2.57   \n",
       "4   [pl][profile][Strategy]SingleDeviceStrategy.ba...        0.48   \n",
       "5   [pl][profile][LightningModule]MLModule.transfe...        0.62   \n",
       "6                                            aten::to        0.28   \n",
       "7   [pl][profile][Callback]TQDMProgressBar.on_test...        2.55   \n",
       "8                                      aten::_to_copy        0.33   \n",
       "9                                        aten::linear        0.13   \n",
       "10                                       aten::matmul        0.08   \n",
       "11                                        aten::copy_        0.45   \n",
       "12                                           aten::mm        1.22   \n",
       "13                                   cudaLaunchKernel        1.11   \n",
       "14                                          aten::mul        0.70   \n",
       "15                              cudaStreamSynchronize        0.82   \n",
       "16  [pl][module]torch.nn.modules.linear.Linear: mo...        0.18   \n",
       "17                                    aten::clamp_min        0.41   \n",
       "18  [pl][module]torch.nn.modules.linear.Linear: mo...        0.16   \n",
       "19                                         aten::relu        0.11   \n",
       "\n",
       "                 Self CPU  CPU total %              CPU total  \\\n",
       "0  0 days 00:00:00.463859       100.00 0 days 00:00:13.231000   \n",
       "1  0 days 00:00:00.029611        81.16 0 days 00:00:10.739000   \n",
       "3  0 days 00:00:00.340660         8.30 0 days 00:00:01.098000   \n",
       "4  0 days 00:00:00.064053         4.02 0 days 00:00:00.531606   \n",
       "5  0 days 00:00:00.081671         3.47 0 days 00:00:00.458594   \n",
       "6  0 days 00:00:00.036754         2.60 0 days 00:00:00.343489   \n",
       "7  0 days 00:00:00.336990         2.55 0 days 00:00:00.336990   \n",
       "8  0 days 00:00:00.043561         2.50 0 days 00:00:00.330814   \n",
       "9  0 days 00:00:00.017513         2.11 0 days 00:00:00.279777   \n",
       "10 0 days 00:00:00.010903         1.77 0 days 00:00:00.234416   \n",
       "11 0 days 00:00:00.059471         1.72 0 days 00:00:00.227455   \n",
       "12 0 days 00:00:00.161399         1.69 0 days 00:00:00.223691   \n",
       "13 0 days 00:00:00.147488         1.11 0 days 00:00:00.147488   \n",
       "14 0 days 00:00:00.093261         1.04 0 days 00:00:00.137338   \n",
       "15 0 days 00:00:00.108760         0.82 0 days 00:00:00.108760   \n",
       "16 0 days 00:00:00.023918         0.63 0 days 00:00:00.083140   \n",
       "17 0 days 00:00:00.054269         0.62 0 days 00:00:00.081628   \n",
       "18 0 days 00:00:00.021710         0.60 0 days 00:00:00.079626   \n",
       "19 0 days 00:00:00.015159         0.59 0 days 00:00:00.078512   \n",
       "\n",
       "                CPU time avg              Self CUDA  Self CUDA %  \\\n",
       "0     0 days 00:00:00.013231        0 days 00:00:00         0.00   \n",
       "1     0 days 00:00:00.010739        0 days 00:00:00         0.00   \n",
       "3     0 days 00:00:00.001098        0 days 00:00:00         0.00   \n",
       "4  0 days 00:00:00.000531606        0 days 00:00:00         0.00   \n",
       "5  0 days 00:00:00.000458594        0 days 00:00:00         0.00   \n",
       "6  0 days 00:00:00.000026422        0 days 00:00:00         0.00   \n",
       "7  0 days 00:00:00.000336990        0 days 00:00:00         0.00   \n",
       "8  0 days 00:00:00.000025447        0 days 00:00:00         0.00   \n",
       "9  0 days 00:00:00.000046630        0 days 00:00:00         0.00   \n",
       "10 0 days 00:00:00.000039069        0 days 00:00:00         0.00   \n",
       "11 0 days 00:00:00.000017497 0 days 00:00:00.046565         5.63   \n",
       "12 0 days 00:00:00.000037282 0 days 00:00:00.635585        76.89   \n",
       "13 0 days 00:00:00.000005342 0 days 00:00:00.040881         4.95   \n",
       "14 0 days 00:00:00.000015260 0 days 00:00:00.059535         7.20   \n",
       "15 0 days 00:00:00.000009063 0 days 00:00:00.015664         1.89   \n",
       "16 0 days 00:00:00.000083140        0 days 00:00:00         0.00   \n",
       "17 0 days 00:00:00.000013605 0 days 00:00:00.035347         4.28   \n",
       "18 0 days 00:00:00.000079626        0 days 00:00:00         0.00   \n",
       "19 0 days 00:00:00.000015702        0 days 00:00:00         0.00   \n",
       "\n",
       "               CUDA total             CUDA time avg  ... Self CUDA Mem  \\\n",
       "0  0 days 00:00:00.937428 0 days 00:00:00.000937428  ...    -689.64 Mb   \n",
       "1  0 days 00:00:00.023994 0 days 00:00:00.000023994  ...           0 b   \n",
       "3  0 days 00:00:00.837151 0 days 00:00:00.000837151  ...    -190.68 Gb   \n",
       "4  0 days 00:00:00.076283 0 days 00:00:00.000076283  ...           0 b   \n",
       "5  0 days 00:00:00.076283 0 days 00:00:00.000076283  ...     -57.13 Mb   \n",
       "6  0 days 00:00:00.067086 0 days 00:00:00.000005160  ...      57.13 Mb   \n",
       "7         0 days 00:00:00           0 days 00:00:00  ...           0 b   \n",
       "8  0 days 00:00:00.072690 0 days 00:00:00.000005592  ...           0 b   \n",
       "9  0 days 00:00:00.659247 0 days 00:00:00.000109874  ...     129.21 Mb   \n",
       "10 0 days 00:00:00.661651 0 days 00:00:00.000110275  ...      43.77 Mb   \n",
       "11 0 days 00:00:00.076283 0 days 00:00:00.000005868  ...           0 b   \n",
       "12 0 days 00:00:00.662304 0 days 00:00:00.000110384  ...      43.53 Gb   \n",
       "13 0 days 00:00:00.040881 0 days 00:00:00.000001481  ...           0 b   \n",
       "14 0 days 00:00:00.071513 0 days 00:00:00.000007946  ...      69.37 Gb   \n",
       "15 0 days 00:00:00.015664 0 days 00:00:00.000001305  ...           0 b   \n",
       "16 0 days 00:00:00.017484 0 days 00:00:00.000017484  ...           0 b   \n",
       "17 0 days 00:00:00.044836 0 days 00:00:00.000007473  ...      43.06 Gb   \n",
       "18 0 days 00:00:00.157014 0 days 00:00:00.000157014  ...     -18.92 Mb   \n",
       "19 0 days 00:00:00.042356 0 days 00:00:00.000008471  ...           0 b   \n",
       "\n",
       "   # of Calls CPU Mem_number CPU Mem_unit  Self CPU Mem_number  \\\n",
       "0        1000        -257.81           Kb              -257.81   \n",
       "1        1000           0.00            b                 0.00   \n",
       "3        1000           0.00            b               248.00   \n",
       "4        1000           0.00            b                 0.00   \n",
       "5        1000           0.00            b                 0.00   \n",
       "6       13000           0.00            b                 0.00   \n",
       "7        1000           0.00            b                 0.00   \n",
       "8       13000           0.00            b                 0.00   \n",
       "9        6000           0.00            b                 0.00   \n",
       "10       6000           0.00            b                 0.00   \n",
       "11      13000           0.00            b                 0.00   \n",
       "12       6000           0.00            b                 0.00   \n",
       "13      27611           0.00            b                 0.00   \n",
       "14       9000         248.00            b               248.00   \n",
       "15      12000           0.00            b                 0.00   \n",
       "16       1000           0.00            b                 0.00   \n",
       "17       6000           0.00            b                 0.00   \n",
       "18       1000           0.00            b                 0.00   \n",
       "19       5000           0.00            b                 0.00   \n",
       "\n",
       "    Self CPU Mem_unit CUDA Mem_number  CUDA Mem_unit Self CUDA Mem_number  \\\n",
       "0                  Kb           98.50             Kb              -689.64   \n",
       "1                   b            0.00              b                 0.00   \n",
       "3                   b            0.00              b              -190.68   \n",
       "4                   b          689.74             Mb                 0.00   \n",
       "5                   b          689.74             Mb               -57.13   \n",
       "6                   b          689.74             Mb                57.13   \n",
       "7                   b            0.00              b                 0.00   \n",
       "8                   b          689.74             Mb                 0.00   \n",
       "9                   b           43.53             Gb               129.21   \n",
       "10                  b           43.53             Gb                43.77   \n",
       "11                  b            0.00              b                 0.00   \n",
       "12                  b           43.53             Gb                43.53   \n",
       "13                  b            0.00              b                 0.00   \n",
       "14                  b           69.37             Gb                69.37   \n",
       "15                  b            0.00              b                 0.00   \n",
       "16                  b            8.66             Gb                 0.00   \n",
       "17                  b           43.06             Gb                43.06   \n",
       "18                  b            8.64             Gb               -18.92   \n",
       "19                  b           43.05             Gb                 0.00   \n",
       "\n",
       "    Self CUDA Mem_unit  \n",
       "0                   Mb  \n",
       "1                    b  \n",
       "3                   Gb  \n",
       "4                    b  \n",
       "5                   Mb  \n",
       "6                   Mb  \n",
       "7                    b  \n",
       "8                    b  \n",
       "9                   Mb  \n",
       "10                  Mb  \n",
       "11                   b  \n",
       "12                  Gb  \n",
       "13                   b  \n",
       "14                  Gb  \n",
       "15                   b  \n",
       "16                   b  \n",
       "17                  Gb  \n",
       "18                  Mb  \n",
       "19                   b  \n",
       "\n",
       "[19 rows x 23 columns]"
      ]
     },
     "execution_count": 24,
     "metadata": {},
     "output_type": "execute_result"
    }
   ],
   "source": [
    "gc_timing[~gc_timing['Name'].str.contains('_MultiProcessingDataLoad')]"
   ]
  },
  {
   "cell_type": "code",
   "execution_count": 22,
   "id": "51928b5974789734",
   "metadata": {
    "ExecuteTime": {
     "end_time": "2024-08-01T09:52:16.894655Z",
     "start_time": "2024-08-01T09:52:16.859582Z"
    }
   },
   "outputs": [
    {
     "ename": "NameError",
     "evalue": "name 'oc_timing' is not defined",
     "output_type": "error",
     "traceback": [
      "\u001B[0;31m---------------------------------------------------------------------------\u001B[0m",
      "\u001B[0;31mNameError\u001B[0m                                 Traceback (most recent call last)",
      "Cell \u001B[0;32mIn[22], line 1\u001B[0m\n\u001B[0;32m----> 1\u001B[0m get_costly_fns_wo_overhead(\u001B[43moc_timing\u001B[49m, \u001B[38;5;241m15\u001B[39m, \u001B[38;5;124m'\u001B[39m\u001B[38;5;124mms\u001B[39m\u001B[38;5;124m'\u001B[39m)\n",
      "\u001B[0;31mNameError\u001B[0m: name 'oc_timing' is not defined"
     ]
    }
   ],
   "source": [
    "get_costly_fns_wo_overhead(oc_timing, 15, 'ms')\n"
   ]
  },
  {
   "cell_type": "code",
   "execution_count": 115,
   "id": "a8517391349679f3",
   "metadata": {
    "ExecuteTime": {
     "end_time": "2024-08-01T09:52:44.698570Z",
     "start_time": "2024-08-01T09:52:44.647250Z"
    }
   },
   "outputs": [
    {
     "name": "stderr",
     "output_type": "stream",
     "text": [
      "/var/folders/fp/5tqzs2jn7fgbdzfwyp_qjkmr0000gn/T/ipykernel_14973/1891507877.py:6: SettingWithCopyWarning:\n",
      "\n",
      "\n",
      "A value is trying to be set on a copy of a slice from a DataFrame.\n",
      "Try using .loc[row_indexer,col_indexer] = value instead\n",
      "\n",
      "See the caveats in the documentation: https://pandas.pydata.org/pandas-docs/stable/user_guide/indexing.html#returning-a-view-versus-a-copy\n",
      "\n",
      "/var/folders/fp/5tqzs2jn7fgbdzfwyp_qjkmr0000gn/T/ipykernel_14973/1891507877.py:7: SettingWithCopyWarning:\n",
      "\n",
      "\n",
      "A value is trying to be set on a copy of a slice from a DataFrame.\n",
      "Try using .loc[row_indexer,col_indexer] = value instead\n",
      "\n",
      "See the caveats in the documentation: https://pandas.pydata.org/pandas-docs/stable/user_guide/indexing.html#returning-a-view-versus-a-copy\n",
      "\n"
     ]
    },
    {
     "data": {
      "text/plain": [
       "(              Name  Self CPU %               Self CPU  CPU total %  \\\n",
       " 2  cudaMemcpyAsync       24.98 0 days 00:00:00.381000        24.98   \n",
       " \n",
       "                CPU total              CPU time avg Self CUDA  Self CUDA %  \\\n",
       " 2 0 days 00:00:00.381823 0 days 00:00:00.000073896    0 days          0.0   \n",
       " \n",
       "   CUDA total CUDA time avg  # of Calls  \n",
       " 2     0 days        0 days        5167  ,\n",
       "                  Name  Self CPU %               Self CPU  CPU total %  \\\n",
       " 4  torch_cluster::knn        0.04 0 days 00:00:00.000612        22.01   \n",
       " \n",
       "                CPU total           CPU time avg              Self CUDA  \\\n",
       " 4 0 days 00:00:00.336391 0 days 00:00:00.012459 0 days 00:00:00.322000   \n",
       " \n",
       "    Self CUDA %             CUDA total          CUDA time avg  # of Calls  \n",
       " 4        93.31 0 days 00:00:00.323970 0 days 00:00:00.011999          27  ,\n",
       " numpy.timedelta64(118,'ms'),\n",
       " numpy.timedelta64(15,'ms'))"
      ]
     },
     "execution_count": 115,
     "metadata": {},
     "output_type": "execute_result"
    }
   ],
   "source": [
    "get_costly_fns_wo_overhead(ec_timing, 15, 'ms')"
   ]
  },
  {
   "cell_type": "code",
   "execution_count": 113,
   "id": "7185a477164b6502",
   "metadata": {},
   "outputs": [
    {
     "name": "stderr",
     "output_type": "stream",
     "text": [
      "/tmp/ipykernel_2924304/4132770040.py:6: SettingWithCopyWarning:\n",
      "\n",
      "\n",
      "A value is trying to be set on a copy of a slice from a DataFrame.\n",
      "Try using .loc[row_indexer,col_indexer] = value instead\n",
      "\n",
      "See the caveats in the documentation: https://pandas.pydata.org/pandas-docs/stable/user_guide/indexing.html#returning-a-view-versus-a-copy\n",
      "\n",
      "/tmp/ipykernel_2924304/4132770040.py:7: SettingWithCopyWarning:\n",
      "\n",
      "\n",
      "A value is trying to be set on a copy of a slice from a DataFrame.\n",
      "Try using .loc[row_indexer,col_indexer] = value instead\n",
      "\n",
      "See the caveats in the documentation: https://pandas.pydata.org/pandas-docs/stable/user_guide/indexing.html#returning-a-view-versus-a-copy\n",
      "\n",
      "/tmp/ipykernel_2924304/4132770040.py:16: SettingWithCopyWarning:\n",
      "\n",
      "\n",
      "A value is trying to be set on a copy of a slice from a DataFrame.\n",
      "Try using .loc[row_indexer,col_indexer] = value instead\n",
      "\n",
      "See the caveats in the documentation: https://pandas.pydata.org/pandas-docs/stable/user_guide/indexing.html#returning-a-view-versus-a-copy\n",
      "\n"
     ]
    }
   ],
   "source": [
    "percentage = 15 \n",
    "num_samples = 1000\n",
    "time_unit ='ms'\n",
    "df_wo_overhead = gc_timing.iloc[2:]\n",
    "\n",
    "df_wo_overhead['Self CPU per sample'] = df_wo_overhead['Self CPU']/num_samples\n",
    "df_wo_overhead['Self CUDA per sample'] = df_wo_overhead['Self CUDA']/num_samples\n",
    "\n",
    "    \n",
    "total_cpu_self_time_per_sample = np.timedelta64(df_wo_overhead['Self CPU per sample'].sum(), time_unit)\n",
    "total_gpu_self_time_per_sample = np.timedelta64(df_wo_overhead['Self CUDA per sample'].sum(), time_unit)\n",
    "\n",
    "costly_CPU_fns = df_wo_overhead[df_wo_overhead['Self CPU per sample'] > total_cpu_self_time_per_sample * percentage/100]\n",
    "costly_GPU_fns = df_wo_overhead[df_wo_overhead['Self CUDA per sample'] > total_gpu_self_time_per_sample * percentage/100]\n",
    "costly_CPU_fns['Self CPU per sample'] = costly_CPU_fns['Self CPU per sample'].astype(f'timedelta64[{time_unit}]')\n",
    "costly_GPU_fns['Self CUDA per sample'] = costly_GPU_fns['Self CUDA per sample'].astype(f'timedelta64[{time_unit}]')\n",
    "\n",
    "\n",
    "other_cpu_time = np.timedelta64(total_cpu_self_time_per_sample - costly_CPU_fns['Self CPU per sample'].sum(), time_unit)\n",
    "other_gpu_time = np.timedelta64(total_gpu_self_time_per_sample - costly_GPU_fns['Self CUDA per sample'].sum(), time_unit)"
   ]
  },
  {
   "cell_type": "code",
   "execution_count": 114,
   "id": "7fdc81d9-b144-477f-9c70-6b018a8694a1",
   "metadata": {},
   "outputs": [
    {
     "data": {
      "text/plain": [
       "numpy.timedelta64(1,'ms')"
      ]
     },
     "execution_count": 114,
     "metadata": {},
     "output_type": "execute_result"
    }
   ],
   "source": [
    "total_cpu_self_time_per_sample"
   ]
  },
  {
   "cell_type": "code",
   "execution_count": 115,
   "id": "94f4b62b-0bdf-4ce9-9e14-76d1d57ae55a",
   "metadata": {},
   "outputs": [
    {
     "data": {
      "text/plain": [
       "numpy.timedelta64(0,'us')"
      ]
     },
     "execution_count": 115,
     "metadata": {},
     "output_type": "execute_result"
    }
   ],
   "source": [
    "np.timedelta64(costly_CPU_fns['Self CPU per sample'].sum(), 'us')"
   ]
  },
  {
   "cell_type": "code",
   "execution_count": 116,
   "id": "fc53cddd-0349-4a81-9f02-880745086ff6",
   "metadata": {},
   "outputs": [
    {
     "data": {
      "text/plain": [
       "numpy.timedelta64(1,'ms')"
      ]
     },
     "execution_count": 116,
     "metadata": {},
     "output_type": "execute_result"
    }
   ],
   "source": [
    "other_cpu_time"
   ]
  },
  {
   "cell_type": "code",
   "execution_count": 117,
   "id": "b368323c-c009-4fd4-a24f-e0be430d6415",
   "metadata": {},
   "outputs": [
    {
     "data": {
      "text/html": [
       "<div>\n",
       "<style scoped>\n",
       "    .dataframe tbody tr th:only-of-type {\n",
       "        vertical-align: middle;\n",
       "    }\n",
       "\n",
       "    .dataframe tbody tr th {\n",
       "        vertical-align: top;\n",
       "    }\n",
       "\n",
       "    .dataframe thead th {\n",
       "        text-align: right;\n",
       "    }\n",
       "</style>\n",
       "<table border=\"1\" class=\"dataframe\">\n",
       "  <thead>\n",
       "    <tr style=\"text-align: right;\">\n",
       "      <th></th>\n",
       "      <th>Name</th>\n",
       "      <th>Self CPU %</th>\n",
       "      <th>Self CPU</th>\n",
       "      <th>CPU total %</th>\n",
       "      <th>CPU total</th>\n",
       "      <th>CPU time avg</th>\n",
       "      <th>Self CUDA</th>\n",
       "      <th>Self CUDA %</th>\n",
       "      <th>CUDA total</th>\n",
       "      <th>CUDA time avg</th>\n",
       "      <th>...</th>\n",
       "      <th>CPU Mem_number</th>\n",
       "      <th>CPU Mem_unit</th>\n",
       "      <th>Self CPU Mem_number</th>\n",
       "      <th>Self CPU Mem_unit</th>\n",
       "      <th>CUDA Mem_number</th>\n",
       "      <th>CUDA Mem_unit</th>\n",
       "      <th>Self CUDA Mem_number</th>\n",
       "      <th>Self CUDA Mem_unit</th>\n",
       "      <th>Self CPU per sample</th>\n",
       "      <th>Self CUDA per sample</th>\n",
       "    </tr>\n",
       "  </thead>\n",
       "  <tbody>\n",
       "    <tr>\n",
       "      <th>7</th>\n",
       "      <td>aten::copy_</td>\n",
       "      <td>0.53</td>\n",
       "      <td>0 days 00:00:00.069086</td>\n",
       "      <td>3.89</td>\n",
       "      <td>0 days 00:00:00.502651</td>\n",
       "      <td>0 days 00:00:00.000035904</td>\n",
       "      <td>0 days 00:00:00.064603</td>\n",
       "      <td>7.65</td>\n",
       "      <td>0 days 00:00:00.102950</td>\n",
       "      <td>0 days 00:00:00.000007354</td>\n",
       "      <td>...</td>\n",
       "      <td>0.0</td>\n",
       "      <td>b</td>\n",
       "      <td>0.0</td>\n",
       "      <td>b</td>\n",
       "      <td>0.00</td>\n",
       "      <td>b</td>\n",
       "      <td>0.00</td>\n",
       "      <td>b</td>\n",
       "      <td>0 days 00:00:00.000069086</td>\n",
       "      <td>0 days</td>\n",
       "    </tr>\n",
       "    <tr>\n",
       "      <th>9</th>\n",
       "      <td>cudaMemcpyAsync</td>\n",
       "      <td>2.48</td>\n",
       "      <td>0 days 00:00:00.319978</td>\n",
       "      <td>2.48</td>\n",
       "      <td>0 days 00:00:00.319978</td>\n",
       "      <td>0 days 00:00:00.000024614</td>\n",
       "      <td>0 days 00:00:00.019679</td>\n",
       "      <td>2.33</td>\n",
       "      <td>0 days 00:00:00.019679</td>\n",
       "      <td>0 days 00:00:00.000001514</td>\n",
       "      <td>...</td>\n",
       "      <td>0.0</td>\n",
       "      <td>b</td>\n",
       "      <td>0.0</td>\n",
       "      <td>b</td>\n",
       "      <td>0.00</td>\n",
       "      <td>b</td>\n",
       "      <td>0.00</td>\n",
       "      <td>b</td>\n",
       "      <td>0 days 00:00:00.000319978</td>\n",
       "      <td>0 days</td>\n",
       "    </tr>\n",
       "    <tr>\n",
       "      <th>13</th>\n",
       "      <td>aten::mm</td>\n",
       "      <td>1.12</td>\n",
       "      <td>0 days 00:00:00.144733</td>\n",
       "      <td>1.59</td>\n",
       "      <td>0 days 00:00:00.205446</td>\n",
       "      <td>0 days 00:00:00.000034241</td>\n",
       "      <td>0 days 00:00:00.636293</td>\n",
       "      <td>75.36</td>\n",
       "      <td>0 days 00:00:00.663289</td>\n",
       "      <td>0 days 00:00:00.000110548</td>\n",
       "      <td>...</td>\n",
       "      <td>0.0</td>\n",
       "      <td>b</td>\n",
       "      <td>0.0</td>\n",
       "      <td>b</td>\n",
       "      <td>43.53</td>\n",
       "      <td>Gb</td>\n",
       "      <td>43.53</td>\n",
       "      <td>Gb</td>\n",
       "      <td>0 days 00:00:00.000144733</td>\n",
       "      <td>0 days</td>\n",
       "    </tr>\n",
       "    <tr>\n",
       "      <th>14</th>\n",
       "      <td>aten::mul</td>\n",
       "      <td>0.75</td>\n",
       "      <td>0 days 00:00:00.097169</td>\n",
       "      <td>1.10</td>\n",
       "      <td>0 days 00:00:00.142671</td>\n",
       "      <td>0 days 00:00:00.000015852</td>\n",
       "      <td>0 days 00:00:00.059335</td>\n",
       "      <td>7.03</td>\n",
       "      <td>0 days 00:00:00.073782</td>\n",
       "      <td>0 days 00:00:00.000008198</td>\n",
       "      <td>...</td>\n",
       "      <td>128.0</td>\n",
       "      <td>b</td>\n",
       "      <td>128.0</td>\n",
       "      <td>b</td>\n",
       "      <td>69.37</td>\n",
       "      <td>Gb</td>\n",
       "      <td>69.37</td>\n",
       "      <td>Gb</td>\n",
       "      <td>0 days 00:00:00.000097169</td>\n",
       "      <td>0 days</td>\n",
       "    </tr>\n",
       "    <tr>\n",
       "      <th>15</th>\n",
       "      <td>cudaLaunchKernel</td>\n",
       "      <td>1.10</td>\n",
       "      <td>0 days 00:00:00.142059</td>\n",
       "      <td>1.10</td>\n",
       "      <td>0 days 00:00:00.142059</td>\n",
       "      <td>0 days 00:00:00.000005145</td>\n",
       "      <td>0 days 00:00:00.039995</td>\n",
       "      <td>4.74</td>\n",
       "      <td>0 days 00:00:00.039995</td>\n",
       "      <td>0 days 00:00:00.000001449</td>\n",
       "      <td>...</td>\n",
       "      <td>0.0</td>\n",
       "      <td>b</td>\n",
       "      <td>0.0</td>\n",
       "      <td>b</td>\n",
       "      <td>0.00</td>\n",
       "      <td>b</td>\n",
       "      <td>0.00</td>\n",
       "      <td>b</td>\n",
       "      <td>0 days 00:00:00.000142059</td>\n",
       "      <td>0 days</td>\n",
       "    </tr>\n",
       "    <tr>\n",
       "      <th>16</th>\n",
       "      <td>cudaStreamSynchronize</td>\n",
       "      <td>0.88</td>\n",
       "      <td>0 days 00:00:00.113587</td>\n",
       "      <td>0.88</td>\n",
       "      <td>0 days 00:00:00.113587</td>\n",
       "      <td>0 days 00:00:00.000008737</td>\n",
       "      <td>0 days 00:00:00.018668</td>\n",
       "      <td>2.21</td>\n",
       "      <td>0 days 00:00:00.018668</td>\n",
       "      <td>0 days 00:00:00.000001436</td>\n",
       "      <td>...</td>\n",
       "      <td>0.0</td>\n",
       "      <td>b</td>\n",
       "      <td>0.0</td>\n",
       "      <td>b</td>\n",
       "      <td>0.00</td>\n",
       "      <td>b</td>\n",
       "      <td>0.00</td>\n",
       "      <td>b</td>\n",
       "      <td>0 days 00:00:00.000113587</td>\n",
       "      <td>0 days</td>\n",
       "    </tr>\n",
       "    <tr>\n",
       "      <th>17</th>\n",
       "      <td>aten::clamp_min</td>\n",
       "      <td>0.41</td>\n",
       "      <td>0 days 00:00:00.052677</td>\n",
       "      <td>0.62</td>\n",
       "      <td>0 days 00:00:00.079594</td>\n",
       "      <td>0 days 00:00:00.000013266</td>\n",
       "      <td>0 days 00:00:00.035389</td>\n",
       "      <td>4.19</td>\n",
       "      <td>0 days 00:00:00.042878</td>\n",
       "      <td>0 days 00:00:00.000007146</td>\n",
       "      <td>...</td>\n",
       "      <td>0.0</td>\n",
       "      <td>b</td>\n",
       "      <td>0.0</td>\n",
       "      <td>b</td>\n",
       "      <td>43.06</td>\n",
       "      <td>Gb</td>\n",
       "      <td>43.06</td>\n",
       "      <td>Gb</td>\n",
       "      <td>0 days 00:00:00.000052677</td>\n",
       "      <td>0 days</td>\n",
       "    </tr>\n",
       "  </tbody>\n",
       "</table>\n",
       "<p>7 rows × 25 columns</p>\n",
       "</div>"
      ],
      "text/plain": [
       "                     Name  Self CPU %               Self CPU  CPU total %  \\\n",
       "7             aten::copy_        0.53 0 days 00:00:00.069086         3.89   \n",
       "9         cudaMemcpyAsync        2.48 0 days 00:00:00.319978         2.48   \n",
       "13               aten::mm        1.12 0 days 00:00:00.144733         1.59   \n",
       "14              aten::mul        0.75 0 days 00:00:00.097169         1.10   \n",
       "15       cudaLaunchKernel        1.10 0 days 00:00:00.142059         1.10   \n",
       "16  cudaStreamSynchronize        0.88 0 days 00:00:00.113587         0.88   \n",
       "17        aten::clamp_min        0.41 0 days 00:00:00.052677         0.62   \n",
       "\n",
       "                CPU total              CPU time avg              Self CUDA  \\\n",
       "7  0 days 00:00:00.502651 0 days 00:00:00.000035904 0 days 00:00:00.064603   \n",
       "9  0 days 00:00:00.319978 0 days 00:00:00.000024614 0 days 00:00:00.019679   \n",
       "13 0 days 00:00:00.205446 0 days 00:00:00.000034241 0 days 00:00:00.636293   \n",
       "14 0 days 00:00:00.142671 0 days 00:00:00.000015852 0 days 00:00:00.059335   \n",
       "15 0 days 00:00:00.142059 0 days 00:00:00.000005145 0 days 00:00:00.039995   \n",
       "16 0 days 00:00:00.113587 0 days 00:00:00.000008737 0 days 00:00:00.018668   \n",
       "17 0 days 00:00:00.079594 0 days 00:00:00.000013266 0 days 00:00:00.035389   \n",
       "\n",
       "    Self CUDA %             CUDA total             CUDA time avg  ...  \\\n",
       "7          7.65 0 days 00:00:00.102950 0 days 00:00:00.000007354  ...   \n",
       "9          2.33 0 days 00:00:00.019679 0 days 00:00:00.000001514  ...   \n",
       "13        75.36 0 days 00:00:00.663289 0 days 00:00:00.000110548  ...   \n",
       "14         7.03 0 days 00:00:00.073782 0 days 00:00:00.000008198  ...   \n",
       "15         4.74 0 days 00:00:00.039995 0 days 00:00:00.000001449  ...   \n",
       "16         2.21 0 days 00:00:00.018668 0 days 00:00:00.000001436  ...   \n",
       "17         4.19 0 days 00:00:00.042878 0 days 00:00:00.000007146  ...   \n",
       "\n",
       "   CPU Mem_number CPU Mem_unit Self CPU Mem_number Self CPU Mem_unit  \\\n",
       "7             0.0            b                 0.0                 b   \n",
       "9             0.0            b                 0.0                 b   \n",
       "13            0.0            b                 0.0                 b   \n",
       "14          128.0            b               128.0                 b   \n",
       "15            0.0            b                 0.0                 b   \n",
       "16            0.0            b                 0.0                 b   \n",
       "17            0.0            b                 0.0                 b   \n",
       "\n",
       "    CUDA Mem_number  CUDA Mem_unit Self CUDA Mem_number  Self CUDA Mem_unit  \\\n",
       "7              0.00              b                 0.00                   b   \n",
       "9              0.00              b                 0.00                   b   \n",
       "13            43.53             Gb                43.53                  Gb   \n",
       "14            69.37             Gb                69.37                  Gb   \n",
       "15             0.00              b                 0.00                   b   \n",
       "16             0.00              b                 0.00                   b   \n",
       "17            43.06             Gb                43.06                  Gb   \n",
       "\n",
       "         Self CPU per sample  Self CUDA per sample  \n",
       "7  0 days 00:00:00.000069086                0 days  \n",
       "9  0 days 00:00:00.000319978                0 days  \n",
       "13 0 days 00:00:00.000144733                0 days  \n",
       "14 0 days 00:00:00.000097169                0 days  \n",
       "15 0 days 00:00:00.000142059                0 days  \n",
       "16 0 days 00:00:00.000113587                0 days  \n",
       "17 0 days 00:00:00.000052677                0 days  \n",
       "\n",
       "[7 rows x 25 columns]"
      ]
     },
     "execution_count": 117,
     "metadata": {},
     "output_type": "execute_result"
    }
   ],
   "source": [
    "costly_GPU_fns"
   ]
  },
  {
   "cell_type": "code",
   "execution_count": 84,
   "id": "66e18ec4-9672-4d52-a6e4-3c080f575621",
   "metadata": {},
   "outputs": [
    {
     "data": {
      "text/plain": [
       "numpy.timedelta64(721,'us')"
      ]
     },
     "execution_count": 84,
     "metadata": {},
     "output_type": "execute_result"
    }
   ],
   "source": [
    "other_cpu_time"
   ]
  },
  {
   "cell_type": "code",
   "execution_count": null,
   "id": "7a6aeaf4-8a04-4651-9b9d-59b8cd57ec08",
   "metadata": {},
   "outputs": [],
   "source": []
  }
 ],
 "metadata": {
  "kernelspec": {
   "display_name": "Python 3 (ipykernel)",
   "language": "python",
   "name": "python3"
  },
  "language_info": {
   "codemirror_mode": {
    "name": "ipython",
    "version": 3
   },
   "file_extension": ".py",
   "mimetype": "text/x-python",
   "name": "python",
   "nbconvert_exporter": "python",
   "pygments_lexer": "ipython3",
   "version": "3.11.9"
  }
 },
 "nbformat": 4,
 "nbformat_minor": 5
}
